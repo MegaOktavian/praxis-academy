{
 "nbformat": 4,
 "nbformat_minor": 2,
 "metadata": {
  "language_info": {
   "name": "python",
   "codemirror_mode": {
    "name": "ipython",
    "version": 3
   },
   "version": "3.8.1-final"
  },
  "orig_nbformat": 2,
  "file_extension": ".py",
  "mimetype": "text/x-python",
  "name": "python",
  "npconvert_exporter": "python",
  "pygments_lexer": "ipython3",
  "version": 3,
  "kernelspec": {
   "name": "python36964bitvenvvenv59d7a3e8c3d34ad5bd8de2ac81d8768c",
   "display_name": "Python 3.6.9 64-bit ('.venv': venv)"
  }
 },
 "cells": [
  {
   "cell_type": "code",
   "execution_count": null,
   "metadata": {},
   "outputs": [],
   "source": [
    "# Phyton adalah bahasa yang mudah digunakan. Phyton emungkinkan untuk membagi program menjadi modul yang dapat digunakan kembali di program Phyton lainnya. Dengan ini, Phyton dapat menghemat waktu pengembangan pemrograman. Program yang ditulis dengan python biasanya jauh lebih pendek daripada bahasa pemrograman lain, karena (a) tipe data tinggi dapat dioperasikan dalam satu pernyataan, (b) pengelompokkan pernyataan dilakukan dengan tanda kurung awal dan akhir, dan (c) tidak ada deklarasi variabel atau argumen yang diperlukan."
   ]
  },
  {
   "cell_type": "code",
   "execution_count": 1,
   "metadata": {},
   "outputs": [
    {
     "name": "stdout",
     "output_type": "stream",
     "text": "Be careful not to fall off!\n"
    }
   ],
   "source": [
    "the_world_is_flat = True\n",
    "if the_world_is_flat:\n",
    "\n",
    "    print(\"Be careful not to fall off!\")"
   ]
  },
  {
   "cell_type": "code",
   "execution_count": null,
   "metadata": {},
   "outputs": [],
   "source": [
    "# Untuk mendeklarasikan penyandian khusus selain yang default, baris komentar khusus harus ditambah sebagai baris pertama, seperti berikut :\n",
    "# -*- coding: encoding -*-"
   ]
  },
  {
   "cell_type": "code",
   "execution_count": null,
   "metadata": {},
   "outputs": [],
   "source": [
    "# NUMBER"
   ]
  },
  {
   "cell_type": "code",
   "execution_count": 2,
   "metadata": {},
   "outputs": [
    {
     "data": {
      "text/plain": "4"
     },
     "execution_count": 2,
     "metadata": {},
     "output_type": "execute_result"
    }
   ],
   "source": [
    "2 + 2"
   ]
  },
  {
   "cell_type": "code",
   "execution_count": 3,
   "metadata": {},
   "outputs": [
    {
     "data": {
      "text/plain": "20"
     },
     "execution_count": 3,
     "metadata": {},
     "output_type": "execute_result"
    }
   ],
   "source": [
    "50 - 5*6"
   ]
  },
  {
   "cell_type": "code",
   "execution_count": 4,
   "metadata": {},
   "outputs": [
    {
     "data": {
      "text/plain": "5.0"
     },
     "execution_count": 4,
     "metadata": {},
     "output_type": "execute_result"
    }
   ],
   "source": [
    "(50 - 5*6) / 4"
   ]
  },
  {
   "cell_type": "code",
   "execution_count": 5,
   "metadata": {},
   "outputs": [
    {
     "data": {
      "text/plain": "1.6"
     },
     "execution_count": 5,
     "metadata": {},
     "output_type": "execute_result"
    }
   ],
   "source": [
    "8 / 5  # division always returns a floating point number"
   ]
  },
  {
   "cell_type": "code",
   "execution_count": null,
   "metadata": {},
   "outputs": [],
   "source": [
    "# Angka -angka bilangan bulat (misal : 2,4,20) memiliki tipe int, sedangkan pecahan (misal 5.0, 1.6) memiliki tipe float."
   ]
  },
  {
   "cell_type": "code",
   "execution_count": 6,
   "metadata": {},
   "outputs": [
    {
     "data": {
      "text/plain": "5.666666666666667"
     },
     "execution_count": 6,
     "metadata": {},
     "output_type": "execute_result"
    }
   ],
   "source": [
    "17 / 3  # classic division returns a float"
   ]
  },
  {
   "cell_type": "code",
   "execution_count": 7,
   "metadata": {},
   "outputs": [
    {
     "data": {
      "text/plain": "2"
     },
     "execution_count": 7,
     "metadata": {},
     "output_type": "execute_result"
    }
   ],
   "source": [
    "7 // 3  # floor division discards the fractional part"
   ]
  },
  {
   "cell_type": "code",
   "execution_count": 9,
   "metadata": {},
   "outputs": [
    {
     "data": {
      "text/plain": "2"
     },
     "execution_count": 9,
     "metadata": {},
     "output_type": "execute_result"
    }
   ],
   "source": [
    "17 % 3  # the % operator returns the remainder of the division"
   ]
  },
  {
   "cell_type": "code",
   "execution_count": 10,
   "metadata": {},
   "outputs": [
    {
     "data": {
      "text/plain": "17"
     },
     "execution_count": 10,
     "metadata": {},
     "output_type": "execute_result"
    }
   ],
   "source": [
    "5 * 3 + 2  # result * divisor + remainder"
   ]
  },
  {
   "cell_type": "code",
   "execution_count": 11,
   "metadata": {},
   "outputs": [
    {
     "data": {
      "text/plain": "25"
     },
     "execution_count": 11,
     "metadata": {},
     "output_type": "execute_result"
    }
   ],
   "source": [
    "5 ** 2  # 5 squared"
   ]
  },
  {
   "cell_type": "code",
   "execution_count": 12,
   "metadata": {},
   "outputs": [
    {
     "data": {
      "text/plain": "128"
     },
     "execution_count": 12,
     "metadata": {},
     "output_type": "execute_result"
    }
   ],
   "source": [
    "2 ** 7  # 2 to the power of 7"
   ]
  },
  {
   "cell_type": "code",
   "execution_count": 13,
   "metadata": {},
   "outputs": [
    {
     "data": {
      "text/plain": "900"
     },
     "execution_count": 13,
     "metadata": {},
     "output_type": "execute_result"
    }
   ],
   "source": [
    "# Tanda sama dengan (=) digunakan untuk menempatkan nilai ke variabel\n",
    "width = 20\n",
    "height = 5 * 9\n",
    "width * height"
   ]
  },
  {
   "cell_type": "code",
   "execution_count": 14,
   "metadata": {},
   "outputs": [
    {
     "ename": "NameError",
     "evalue": "name 'n' is not defined",
     "output_type": "error",
     "traceback": [
      "\u001b[0;31m---------------------------------------------------------------------------\u001b[0m",
      "\u001b[0;31mNameError\u001b[0m                                 Traceback (most recent call last)",
      "\u001b[0;32m<ipython-input-14-6268bfea6a2c>\u001b[0m in \u001b[0;36m<module>\u001b[0;34m\u001b[0m\n\u001b[0;32m----> 1\u001b[0;31m \u001b[0mn\u001b[0m  \u001b[0;31m# try to access an undefined variable\u001b[0m\u001b[0;34m\u001b[0m\u001b[0;34m\u001b[0m\u001b[0m\n\u001b[0m",
      "\u001b[0;31mNameError\u001b[0m: name 'n' is not defined"
     ]
    }
   ],
   "source": [
    "n  # try to access an undefined variable"
   ]
  },
  {
   "cell_type": "code",
   "execution_count": 15,
   "metadata": {},
   "outputs": [
    {
     "data": {
      "text/plain": "14.0"
     },
     "execution_count": 15,
     "metadata": {},
     "output_type": "execute_result"
    }
   ],
   "source": [
    "# Operasi campuran\n",
    "4 * 3.75 - 1"
   ]
  },
  {
   "cell_type": "code",
   "execution_count": 16,
   "metadata": {},
   "outputs": [
    {
     "data": {
      "text/plain": "12.5625"
     },
     "execution_count": 16,
     "metadata": {},
     "output_type": "execute_result"
    }
   ],
   "source": [
    "# Dalam mode interaktif ekspresi cetak akhir ditugaskan ke variabel _. \n",
    "tax = 12.5 / 100\n",
    "price = 100.50\n",
    "price * tax"
   ]
  },
  {
   "cell_type": "code",
   "execution_count": 17,
   "metadata": {},
   "outputs": [
    {
     "data": {
      "text/plain": "113.0625"
     },
     "execution_count": 17,
     "metadata": {},
     "output_type": "execute_result"
    }
   ],
   "source": [
    "price + _"
   ]
  },
  {
   "cell_type": "code",
   "execution_count": 18,
   "metadata": {},
   "outputs": [
    {
     "data": {
      "text/plain": "113.06"
     },
     "execution_count": 18,
     "metadata": {},
     "output_type": "execute_result"
    }
   ],
   "source": [
    "round(_, 2)"
   ]
  },
  {
   "cell_type": "code",
   "execution_count": null,
   "metadata": {},
   "outputs": [],
   "source": [
    "# STRING"
   ]
  },
  {
   "cell_type": "code",
   "execution_count": 19,
   "metadata": {},
   "outputs": [
    {
     "data": {
      "text/plain": "'spam eggs'"
     },
     "execution_count": 19,
     "metadata": {},
     "output_type": "execute_result"
    }
   ],
   "source": [
    "'spam eggs'  # single quotes"
   ]
  },
  {
   "cell_type": "code",
   "execution_count": 20,
   "metadata": {},
   "outputs": [
    {
     "data": {
      "text/plain": "\"doesn't\""
     },
     "execution_count": 20,
     "metadata": {},
     "output_type": "execute_result"
    }
   ],
   "source": [
    "'doesn\\'t'  # use \\' to escape the single quote..."
   ]
  },
  {
   "cell_type": "code",
   "execution_count": 21,
   "metadata": {},
   "outputs": [
    {
     "data": {
      "text/plain": "\"doesn't\""
     },
     "execution_count": 21,
     "metadata": {},
     "output_type": "execute_result"
    }
   ],
   "source": [
    "\"doesn't\"  # ...or use double quotes instead"
   ]
  },
  {
   "cell_type": "code",
   "execution_count": 22,
   "metadata": {},
   "outputs": [
    {
     "data": {
      "text/plain": "'\"Yes,\" they said.'"
     },
     "execution_count": 22,
     "metadata": {},
     "output_type": "execute_result"
    }
   ],
   "source": [
    "'\"Yes,\" they said.'"
   ]
  },
  {
   "cell_type": "code",
   "execution_count": 23,
   "metadata": {},
   "outputs": [
    {
     "data": {
      "text/plain": "'\"Yes,\" they said.'"
     },
     "execution_count": 23,
     "metadata": {},
     "output_type": "execute_result"
    }
   ],
   "source": [
    "'\"Yes,\" they said.'"
   ]
  },
  {
   "cell_type": "code",
   "execution_count": 24,
   "metadata": {},
   "outputs": [
    {
     "name": "stdout",
     "output_type": "stream",
     "text": "\"Isn't,\" they said.\n"
    }
   ],
   "source": [
    "# Menggunakan function print()\n",
    "print('\"Isn\\'t,\" they said.')"
   ]
  },
  {
   "cell_type": "code",
   "execution_count": 25,
   "metadata": {},
   "outputs": [
    {
     "data": {
      "text/plain": "'First line.\\nSecond line.'"
     },
     "execution_count": 25,
     "metadata": {},
     "output_type": "execute_result"
    }
   ],
   "source": [
    "s = 'First line.\\nSecond line.'  # \\n means newline\n",
    "s  # without print(), \\n is included in the output"
   ]
  },
  {
   "cell_type": "code",
   "execution_count": 26,
   "metadata": {},
   "outputs": [
    {
     "name": "stdout",
     "output_type": "stream",
     "text": "First line.\nSecond line.\n"
    }
   ],
   "source": [
    "print(s)  # with print(), \\n produces a new line"
   ]
  },
  {
   "cell_type": "code",
   "execution_count": 27,
   "metadata": {},
   "outputs": [
    {
     "name": "stdout",
     "output_type": "stream",
     "text": "C:\\some\name\n"
    }
   ],
   "source": [
    "# Jika tidak ingin karakter yang diawali dengan \\ diartikan sebagai karakter khusus, dapat digunakan raw string dengan menambahkan r sebelum komentar pertama\n",
    "print('C:\\some\\name')  # here \\n means newline!"
   ]
  },
  {
   "cell_type": "code",
   "execution_count": 28,
   "metadata": {},
   "outputs": [
    {
     "name": "stdout",
     "output_type": "stream",
     "text": "C:\\some\\name\n"
    }
   ],
   "source": [
    "print(r'C:\\some\\name')  # note the r before the quote"
   ]
  },
  {
   "cell_type": "code",
   "execution_count": 34,
   "metadata": {},
   "outputs": [
    {
     "name": "stdout",
     "output_type": "stream",
     "text": "\\h\n"
    }
   ],
   "source": [
    "# Literal String dapat menjangkau beberapa baris. Salah satu caranya adalah dengan menggunakan tanda kutip tiga : \"\"\"...\"\"\" atau '''...'''. Akhir baris secara otomatis termasuk kedalam String, tetapi dimungkinkan untuk mencegahnya dengan menambahkan a\\ diakhir baris\n",
    "print(\"\"\"\\h\"\"\")"
   ]
  },
  {
   "cell_type": "code",
   "execution_count": 37,
   "metadata": {},
   "outputs": [
    {
     "data": {
      "text/plain": "'unununium'"
     },
     "execution_count": 37,
     "metadata": {},
     "output_type": "execute_result"
    }
   ],
   "source": [
    "# 3 times 'un', followed by 'ium'\n",
    "3 * 'un' + 'ium'"
   ]
  },
  {
   "cell_type": "code",
   "execution_count": 38,
   "metadata": {},
   "outputs": [
    {
     "data": {
      "text/plain": "'Python'"
     },
     "execution_count": 38,
     "metadata": {},
     "output_type": "execute_result"
    }
   ],
   "source": [
    "'Py' 'thon'"
   ]
  },
  {
   "cell_type": "code",
   "execution_count": 39,
   "metadata": {},
   "outputs": [
    {
     "ename": "SyntaxError",
     "evalue": "invalid syntax (<ipython-input-39-20527b549823>, line 2)",
     "output_type": "error",
     "traceback": [
      "\u001b[0;36m  File \u001b[0;32m\"<ipython-input-39-20527b549823>\"\u001b[0;36m, line \u001b[0;32m2\u001b[0m\n\u001b[0;31m    prefix 'thon'  # can't concatenate a variable and a string literal\u001b[0m\n\u001b[0m                ^\u001b[0m\n\u001b[0;31mSyntaxError\u001b[0m\u001b[0;31m:\u001b[0m invalid syntax\n"
     ]
    }
   ],
   "source": [
    "# Ini hanya bekerja dengan dua literal, tidak dengan variabel atau ekspresi\n",
    "prefix = 'Py'\n",
    "prefix 'thon'  # can't concatenate a variable and a string literal"
   ]
  },
  {
   "cell_type": "code",
   "execution_count": 40,
   "metadata": {},
   "outputs": [
    {
     "ename": "SyntaxError",
     "evalue": "invalid syntax (<ipython-input-40-f4764cbe42a8>, line 1)",
     "output_type": "error",
     "traceback": [
      "\u001b[0;36m  File \u001b[0;32m\"<ipython-input-40-f4764cbe42a8>\"\u001b[0;36m, line \u001b[0;32m1\u001b[0m\n\u001b[0;31m    ('un' * 3) 'ium'\u001b[0m\n\u001b[0m                   ^\u001b[0m\n\u001b[0;31mSyntaxError\u001b[0m\u001b[0;31m:\u001b[0m invalid syntax\n"
     ]
    }
   ],
   "source": [
    "('un' * 3) 'ium'"
   ]
  },
  {
   "cell_type": "code",
   "execution_count": 42,
   "metadata": {},
   "outputs": [
    {
     "data": {
      "text/plain": "'Python'"
     },
     "execution_count": 42,
     "metadata": {},
     "output_type": "execute_result"
    }
   ],
   "source": [
    "#Jika ingin menggabungkan variabel atau variabel dan literal menggunakan +\n",
    "prefix = 'Py'\n",
    "prefix + 'thon'"
   ]
  },
  {
   "cell_type": "code",
   "execution_count": 47,
   "metadata": {},
   "outputs": [
    {
     "data": {
      "text/plain": "'P'"
     },
     "execution_count": 47,
     "metadata": {},
     "output_type": "execute_result"
    }
   ],
   "source": [
    " word = 'Python'\n",
    "word[0]  # character in position 0"
   ]
  },
  {
   "cell_type": "code",
   "execution_count": 46,
   "metadata": {},
   "outputs": [
    {
     "data": {
      "text/plain": "'n'"
     },
     "execution_count": 46,
     "metadata": {},
     "output_type": "execute_result"
    }
   ],
   "source": [
    "word[5]  # character in position 5"
   ]
  },
  {
   "cell_type": "code",
   "execution_count": 48,
   "metadata": {},
   "outputs": [
    {
     "data": {
      "text/plain": "'n'"
     },
     "execution_count": 48,
     "metadata": {},
     "output_type": "execute_result"
    }
   ],
   "source": [
    "word[-1]  # last character"
   ]
  },
  {
   "cell_type": "code",
   "execution_count": 49,
   "metadata": {},
   "outputs": [
    {
     "data": {
      "text/plain": "'o'"
     },
     "execution_count": 49,
     "metadata": {},
     "output_type": "execute_result"
    }
   ],
   "source": [
    "word[-2]  # second-last character"
   ]
  },
  {
   "cell_type": "code",
   "execution_count": 50,
   "metadata": {},
   "outputs": [
    {
     "data": {
      "text/plain": "'P'"
     },
     "execution_count": 50,
     "metadata": {},
     "output_type": "execute_result"
    }
   ],
   "source": [
    "word[-6]"
   ]
  },
  {
   "cell_type": "code",
   "execution_count": 51,
   "metadata": {},
   "outputs": [
    {
     "data": {
      "text/plain": "'Py'"
     },
     "execution_count": 51,
     "metadata": {},
     "output_type": "execute_result"
    }
   ],
   "source": [
    "# Selain pengindeksan, pengirisan juga didukung. Sementara pengindeksan digunakan untuk mendpat karakter individu, pengirisan memungkinkan untuk mendapatkan Substring\n",
    "word[0:2]  # characters from position 0 (included) to 2 (excluded)"
   ]
  },
  {
   "cell_type": "code",
   "execution_count": 52,
   "metadata": {},
   "outputs": [
    {
     "data": {
      "text/plain": "'tho'"
     },
     "execution_count": 52,
     "metadata": {},
     "output_type": "execute_result"
    }
   ],
   "source": [
    "word[2:5]  # characters from position 2 (included) to 5 (excluded)"
   ]
  },
  {
   "cell_type": "code",
   "execution_count": 53,
   "metadata": {},
   "outputs": [
    {
     "data": {
      "text/plain": "'Python'"
     },
     "execution_count": 53,
     "metadata": {},
     "output_type": "execute_result"
    }
   ],
   "source": [
    "# s[:i] + s[i:]\n",
    "word[:2] + word[2:]"
   ]
  },
  {
   "cell_type": "code",
   "execution_count": 54,
   "metadata": {},
   "outputs": [
    {
     "data": {
      "text/plain": "'Python'"
     },
     "execution_count": 54,
     "metadata": {},
     "output_type": "execute_result"
    }
   ],
   "source": [
    "word[:4] + word[4:]"
   ]
  },
  {
   "cell_type": "code",
   "execution_count": 55,
   "metadata": {},
   "outputs": [
    {
     "data": {
      "text/plain": "'Py'"
     },
     "execution_count": 55,
     "metadata": {},
     "output_type": "execute_result"
    }
   ],
   "source": [
    "# Pengirisan memiliki standar yang berguna. Indeks pertama yang dihilangkan default ke 0, indeks kedua yang dihilangkan adalah standar untuk ukuran string yang rilis\n",
    "word[:2]   # character from the beginning to position 2 (excluded)"
   ]
  },
  {
   "cell_type": "code",
   "execution_count": 56,
   "metadata": {},
   "outputs": [
    {
     "data": {
      "text/plain": "'on'"
     },
     "execution_count": 56,
     "metadata": {},
     "output_type": "execute_result"
    }
   ],
   "source": [
    "word[4:]   # characters from position 4 (included) to the end"
   ]
  },
  {
   "cell_type": "code",
   "execution_count": 57,
   "metadata": {},
   "outputs": [
    {
     "data": {
      "text/plain": "'on'"
     },
     "execution_count": 57,
     "metadata": {},
     "output_type": "execute_result"
    }
   ],
   "source": [
    "word[-2:]  # characters from the second-last (included) to the end"
   ]
  },
  {
   "cell_type": "code",
   "execution_count": null,
   "metadata": {},
   "outputs": [],
   "source": [
    "#Salah stu cara untuk mengingat bagaimana irisan bekerja adalah dengan menganggap indeks sebagai menunjuk diantara karakter, dengan tepi kiri pertama bernomor 0. Kemudian tepi kanan karakter terakhir dari string n karakter memiliki indeks n\n",
    "+---+---+---+---+---+---+\n",
    " | P | y | t | h | o | n |\n",
    " +---+---+---+---+---+---+\n",
    " 0   1   2   3   4   5   6\n",
    "-6  -5  -4  -3  -2  -1"
   ]
  },
  {
   "cell_type": "code",
   "execution_count": 60,
   "metadata": {},
   "outputs": [
    {
     "ename": "IndexError",
     "evalue": "string index out of range",
     "output_type": "error",
     "traceback": [
      "\u001b[0;31m---------------------------------------------------------------------------\u001b[0m",
      "\u001b[0;31mIndexError\u001b[0m                                Traceback (most recent call last)",
      "\u001b[0;32m<ipython-input-60-469c6d99b5b2>\u001b[0m in \u001b[0;36m<module>\u001b[0;34m\u001b[0m\n\u001b[0;32m----> 1\u001b[0;31m \u001b[0mword\u001b[0m\u001b[0;34m[\u001b[0m\u001b[0;36m42\u001b[0m\u001b[0;34m]\u001b[0m  \u001b[0;31m# the word only has 6 characters\u001b[0m\u001b[0;34m\u001b[0m\u001b[0;34m\u001b[0m\u001b[0m\n\u001b[0m",
      "\u001b[0;31mIndexError\u001b[0m: string index out of range"
     ]
    }
   ],
   "source": [
    "#Menggunakan nilai indeks yang terlalu besar\n",
    "word[42]  # the word only has 6 characters"
   ]
  },
  {
   "cell_type": "code",
   "execution_count": 61,
   "metadata": {},
   "outputs": [
    {
     "data": {
      "text/plain": "'on'"
     },
     "execution_count": 61,
     "metadata": {},
     "output_type": "execute_result"
    }
   ],
   "source": [
    "word[4:42]"
   ]
  },
  {
   "cell_type": "code",
   "execution_count": 62,
   "metadata": {},
   "outputs": [
    {
     "data": {
      "text/plain": "''"
     },
     "execution_count": 62,
     "metadata": {},
     "output_type": "execute_result"
    }
   ],
   "source": [
    "word[42:]"
   ]
  },
  {
   "cell_type": "code",
   "execution_count": 63,
   "metadata": {},
   "outputs": [
    {
     "ename": "TypeError",
     "evalue": "'str' object does not support item assignment",
     "output_type": "error",
     "traceback": [
      "\u001b[0;31m---------------------------------------------------------------------------\u001b[0m",
      "\u001b[0;31mTypeError\u001b[0m                                 Traceback (most recent call last)",
      "\u001b[0;32m<ipython-input-63-3657d7c39a2b>\u001b[0m in \u001b[0;36m<module>\u001b[0;34m\u001b[0m\n\u001b[1;32m      1\u001b[0m \u001b[0;31m#Sintak python tidak dapat diubah - ubah\u001b[0m\u001b[0;34m\u001b[0m\u001b[0;34m\u001b[0m\u001b[0;34m\u001b[0m\u001b[0m\n\u001b[0;32m----> 2\u001b[0;31m \u001b[0mword\u001b[0m\u001b[0;34m[\u001b[0m\u001b[0;36m0\u001b[0m\u001b[0;34m]\u001b[0m \u001b[0;34m=\u001b[0m \u001b[0;34m'J'\u001b[0m\u001b[0;34m\u001b[0m\u001b[0;34m\u001b[0m\u001b[0m\n\u001b[0m",
      "\u001b[0;31mTypeError\u001b[0m: 'str' object does not support item assignment"
     ]
    }
   ],
   "source": [
    "#Sintak python tidak dapat diubah - ubah \n",
    "word[0] = 'J'"
   ]
  },
  {
   "cell_type": "code",
   "execution_count": 64,
   "metadata": {},
   "outputs": [
    {
     "ename": "TypeError",
     "evalue": "'str' object does not support item assignment",
     "output_type": "error",
     "traceback": [
      "\u001b[0;31m---------------------------------------------------------------------------\u001b[0m",
      "\u001b[0;31mTypeError\u001b[0m                                 Traceback (most recent call last)",
      "\u001b[0;32m<ipython-input-64-6488bbf78f5a>\u001b[0m in \u001b[0;36m<module>\u001b[0;34m\u001b[0m\n\u001b[0;32m----> 1\u001b[0;31m \u001b[0mword\u001b[0m\u001b[0;34m[\u001b[0m\u001b[0;36m2\u001b[0m\u001b[0;34m:\u001b[0m\u001b[0;34m]\u001b[0m \u001b[0;34m=\u001b[0m \u001b[0;34m'py'\u001b[0m\u001b[0;34m\u001b[0m\u001b[0;34m\u001b[0m\u001b[0m\n\u001b[0m",
      "\u001b[0;31mTypeError\u001b[0m: 'str' object does not support item assignment"
     ]
    }
   ],
   "source": [
    "word[2:] = 'py'"
   ]
  },
  {
   "cell_type": "code",
   "execution_count": 65,
   "metadata": {},
   "outputs": [
    {
     "data": {
      "text/plain": "'Jython'"
     },
     "execution_count": 65,
     "metadata": {},
     "output_type": "execute_result"
    }
   ],
   "source": [
    "#Jika dibutuhkan String yang berbeda, maka harus membuat yang baru :\n",
    "'J' + word[1:]"
   ]
  },
  {
   "cell_type": "code",
   "execution_count": 66,
   "metadata": {},
   "outputs": [
    {
     "data": {
      "text/plain": "'Pypy'"
     },
     "execution_count": 66,
     "metadata": {},
     "output_type": "execute_result"
    }
   ],
   "source": [
    "word[:2] + 'py'"
   ]
  },
  {
   "cell_type": "code",
   "execution_count": 68,
   "metadata": {},
   "outputs": [
    {
     "data": {
      "text/plain": "34"
     },
     "execution_count": 68,
     "metadata": {},
     "output_type": "execute_result"
    }
   ],
   "source": [
    "# Fungsi len() untuk panjang string\n",
    "s = 'supercalifragilisticexpialidocious'\n",
    "len(s)"
   ]
  },
  {
   "cell_type": "code",
   "execution_count": null,
   "metadata": {},
   "outputs": [],
   "source": [
    "#LIST"
   ]
  },
  {
   "cell_type": "code",
   "execution_count": 69,
   "metadata": {},
   "outputs": [
    {
     "data": {
      "text/plain": "[1, 4, 9, 16, 25]"
     },
     "execution_count": 69,
     "metadata": {},
     "output_type": "execute_result"
    }
   ],
   "source": [
    "#Python mengetahui sejumlah tipe data majemuk, yang digunakan untuk mengelompokkan nilai - nilai lainnya. Yang paling berguna adalah List, yang dapat ditulis sebagai List nilai yang dipisahkan koma(item) antara tanda kurung siku\n",
    "squares = [1, 4, 9, 16, 25]\n",
    "squares"
   ]
  },
  {
   "cell_type": "code",
   "execution_count": 70,
   "metadata": {},
   "outputs": [
    {
     "data": {
      "text/plain": "1"
     },
     "execution_count": 70,
     "metadata": {},
     "output_type": "execute_result"
    }
   ],
   "source": [
    "#Seperti string, list menggunakan indeks\n",
    "squares[0]  # indexing returns the item"
   ]
  },
  {
   "cell_type": "code",
   "execution_count": 71,
   "metadata": {},
   "outputs": [
    {
     "data": {
      "text/plain": "25"
     },
     "execution_count": 71,
     "metadata": {},
     "output_type": "execute_result"
    }
   ],
   "source": [
    "squares[-1]"
   ]
  },
  {
   "cell_type": "code",
   "execution_count": 72,
   "metadata": {},
   "outputs": [
    {
     "data": {
      "text/plain": "[9, 16, 25]"
     },
     "execution_count": 72,
     "metadata": {},
     "output_type": "execute_result"
    }
   ],
   "source": [
    "squares[-3:]  # slicing returns a new list"
   ]
  },
  {
   "cell_type": "code",
   "execution_count": 74,
   "metadata": {},
   "outputs": [
    {
     "data": {
      "text/plain": "[1, 4, 9, 16, 25]"
     },
     "execution_count": 74,
     "metadata": {},
     "output_type": "execute_result"
    }
   ],
   "source": [
    "#List juga mendukung penggabungan\n",
    "squares[:]"
   ]
  },
  {
   "cell_type": "code",
   "execution_count": 75,
   "metadata": {},
   "outputs": [
    {
     "data": {
      "text/plain": "[1, 4, 9, 16, 25, 36, 49, 64, 81, 100]"
     },
     "execution_count": 75,
     "metadata": {},
     "output_type": "execute_result"
    }
   ],
   "source": [
    "squares + [36, 49, 64, 81, 100]"
   ]
  },
  {
   "cell_type": "code",
   "execution_count": 76,
   "metadata": {},
   "outputs": [
    {
     "data": {
      "text/plain": "64"
     },
     "execution_count": 76,
     "metadata": {},
     "output_type": "execute_result"
    }
   ],
   "source": [
    "#Tidak seperti string yang tidak dapat diubah, List adalah tipe yang dapat diubah\n",
    "cubes = [1, 8, 27, 65, 125]  # something's wrong here\n",
    "4 ** 3  # the cube of 4 is 64, not 65!"
   ]
  },
  {
   "cell_type": "code",
   "execution_count": 77,
   "metadata": {},
   "outputs": [
    {
     "data": {
      "text/plain": "[1, 8, 27, 64, 125]"
     },
     "execution_count": 77,
     "metadata": {},
     "output_type": "execute_result"
    }
   ],
   "source": [
    "cubes[3] = 64  # replace the wrong value\n",
    "cubes"
   ]
  },
  {
   "cell_type": "code",
   "execution_count": 78,
   "metadata": {},
   "outputs": [
    {
     "data": {
      "text/plain": "[1, 8, 27, 64, 125, 216, 343]"
     },
     "execution_count": 78,
     "metadata": {},
     "output_type": "execute_result"
    }
   ],
   "source": [
    "#Menambahkan item baru diakhir list menggunakan append()\n",
    "cubes.append(216)  # add the cube of 6\n",
    "cubes.append(7 ** 3)  # and the cube of 7\n",
    "cubes"
   ]
  },
  {
   "cell_type": "code",
   "execution_count": 79,
   "metadata": {},
   "outputs": [
    {
     "data": {
      "text/plain": "['a', 'b', 'c', 'd', 'e', 'f', 'g']"
     },
     "execution_count": 79,
     "metadata": {},
     "output_type": "execute_result"
    }
   ],
   "source": [
    "# Menambahkan irisan dan mengukuran list atau menghapus sepenuhnya\n",
    "letters = ['a', 'b', 'c', 'd', 'e', 'f', 'g']\n",
    "letters"
   ]
  },
  {
   "cell_type": "code",
   "execution_count": 80,
   "metadata": {},
   "outputs": [
    {
     "data": {
      "text/plain": "['a', 'b', 'C', 'D', 'E', 'f', 'g']"
     },
     "execution_count": 80,
     "metadata": {},
     "output_type": "execute_result"
    }
   ],
   "source": [
    "# replace some values\n",
    "letters[2:5] = ['C', 'D', 'E']\n",
    "letters"
   ]
  },
  {
   "cell_type": "code",
   "execution_count": 81,
   "metadata": {},
   "outputs": [
    {
     "data": {
      "text/plain": "['a', 'b', 'f', 'g']"
     },
     "execution_count": 81,
     "metadata": {},
     "output_type": "execute_result"
    }
   ],
   "source": [
    "# now remove them\n",
    "letters[2:5] = []\n",
    "letters"
   ]
  },
  {
   "cell_type": "code",
   "execution_count": 82,
   "metadata": {},
   "outputs": [
    {
     "data": {
      "text/plain": "[]"
     },
     "execution_count": 82,
     "metadata": {},
     "output_type": "execute_result"
    }
   ],
   "source": [
    "# clear the list by replacing all the elements with an empty list\n",
    "letters[:] = []\n",
    "letters"
   ]
  },
  {
   "cell_type": "code",
   "execution_count": 83,
   "metadata": {},
   "outputs": [
    {
     "data": {
      "text/plain": "4"
     },
     "execution_count": 83,
     "metadata": {},
     "output_type": "execute_result"
    }
   ],
   "source": [
    "#Fungsi len()\n",
    "letters = ['a', 'b', 'c', 'd']\n",
    "len(letters)"
   ]
  },
  {
   "cell_type": "code",
   "execution_count": 84,
   "metadata": {},
   "outputs": [
    {
     "data": {
      "text/plain": "[['a', 'b', 'c'], [1, 2, 3]]"
     },
     "execution_count": 84,
     "metadata": {},
     "output_type": "execute_result"
    }
   ],
   "source": [
    "#Membuat daftar yang berisi daftar lainnya\n",
    "a = ['a', 'b', 'c']\n",
    "n = [1, 2, 3]\n",
    "x = [a, n]\n",
    "x"
   ]
  },
  {
   "cell_type": "code",
   "execution_count": 85,
   "metadata": {},
   "outputs": [
    {
     "data": {
      "text/plain": "['a', 'b', 'c']"
     },
     "execution_count": 85,
     "metadata": {},
     "output_type": "execute_result"
    }
   ],
   "source": [
    "x[0]"
   ]
  },
  {
   "cell_type": "code",
   "execution_count": 86,
   "metadata": {},
   "outputs": [
    {
     "data": {
      "text/plain": "'b'"
     },
     "execution_count": 86,
     "metadata": {},
     "output_type": "execute_result"
    }
   ],
   "source": [
    "x[0][1]"
   ]
  },
  {
   "cell_type": "code",
   "execution_count": 87,
   "metadata": {},
   "outputs": [
    {
     "name": "stdout",
     "output_type": "stream",
     "text": "0\n1\n1\n2\n3\n5\n8\n"
    }
   ],
   "source": [
    "# Fibonacci series:\n",
    "# the sum of two elements defines the next\n",
    "a, b = 0, 1\n",
    "while a < 10:\n",
    "    print(a)\n",
    "    a, b = b, a+b"
   ]
  },
  {
   "cell_type": "code",
   "execution_count": 88,
   "metadata": {},
   "outputs": [
    {
     "name": "stdout",
     "output_type": "stream",
     "text": "The value of i is 65536\n"
    }
   ],
   "source": [
    "i = 256*256\n",
    "print('The value of i is', i)"
   ]
  },
  {
   "cell_type": "code",
   "execution_count": 89,
   "metadata": {},
   "outputs": [
    {
     "name": "stdout",
     "output_type": "stream",
     "text": "0,1,1,2,3,5,8,13,21,34,55,89,144,233,377,610,987,"
    }
   ],
   "source": [
    "a, b = 0, 1\n",
    "while a < 1000:\n",
    "    print(a, end=',')\n",
    "    a, b = b, a+b"
   ]
  },
  {
   "cell_type": "code",
   "execution_count": null,
   "metadata": {},
   "outputs": [],
   "source": [
    "#Control Flow\n",
    "\n",
    "#if statments"
   ]
  },
  {
   "cell_type": "code",
   "execution_count": 99,
   "metadata": {},
   "outputs": [
    {
     "ename": "ValueError",
     "evalue": "invalid literal for int() with base 10: ''",
     "output_type": "error",
     "traceback": [
      "\u001b[0;31m---------------------------------------------------------------------------\u001b[0m",
      "\u001b[0;31mValueError\u001b[0m                                Traceback (most recent call last)",
      "\u001b[0;32m<ipython-input-99-8eae54e46829>\u001b[0m in \u001b[0;36m<module>\u001b[0;34m\u001b[0m\n\u001b[0;32m----> 1\u001b[0;31m \u001b[0mx\u001b[0m \u001b[0;34m=\u001b[0m \u001b[0mint\u001b[0m\u001b[0;34m(\u001b[0m\u001b[0minput\u001b[0m\u001b[0;34m(\u001b[0m\u001b[0;34m\"Please_enter_an_integer: 1\"\u001b[0m\u001b[0;34m)\u001b[0m\u001b[0;34m)\u001b[0m\u001b[0;34m\u001b[0m\u001b[0;34m\u001b[0m\u001b[0m\n\u001b[0m\u001b[1;32m      2\u001b[0m \u001b[0;32mif\u001b[0m \u001b[0mx\u001b[0m \u001b[0;34m<\u001b[0m \u001b[0;36m0\u001b[0m\u001b[0;34m:\u001b[0m\u001b[0;34m\u001b[0m\u001b[0;34m\u001b[0m\u001b[0m\n\u001b[1;32m      3\u001b[0m     \u001b[0mx\u001b[0m \u001b[0;34m=\u001b[0m \u001b[0;36m0\u001b[0m\u001b[0;34m\u001b[0m\u001b[0;34m\u001b[0m\u001b[0m\n\u001b[1;32m      4\u001b[0m     \u001b[0mprint\u001b[0m\u001b[0;34m(\u001b[0m\u001b[0;34m'Negative changed to zero'\u001b[0m\u001b[0;34m)\u001b[0m\u001b[0;34m\u001b[0m\u001b[0;34m\u001b[0m\u001b[0m\n\u001b[1;32m      5\u001b[0m \u001b[0;32melif\u001b[0m \u001b[0mx\u001b[0m \u001b[0;34m==\u001b[0m \u001b[0;36m0\u001b[0m\u001b[0;34m:\u001b[0m\u001b[0;34m\u001b[0m\u001b[0;34m\u001b[0m\u001b[0m\n",
      "\u001b[0;31mValueError\u001b[0m: invalid literal for int() with base 10: ''"
     ]
    }
   ],
   "source": [
    "x = int(input(\"Please enter an integer: \"))\n",
    "Please enter an integer: 42\n",
    "if x < 0:\n",
    "    x = 0\n",
    "    print('Negative changed to zero')\n",
    "elif x == 0:\n",
    "    print('Zero')\n",
    "elif x == 1:\n",
    "    print('Single')\n",
    "else:\n",
    "    print('More')"
   ]
  },
  {
   "cell_type": "code",
   "execution_count": 100,
   "metadata": {},
   "outputs": [
    {
     "name": "stdout",
     "output_type": "stream",
     "text": "cat 3\nwindow 6\ndefenestrate 12\n"
    }
   ],
   "source": [
    "#for statment\n",
    "# Measure some strings:\n",
    "words = ['cat', 'window', 'defenestrate']\n",
    "for w in words:\n",
    "    print(w, len(w))"
   ]
  },
  {
   "cell_type": "code",
   "execution_count": 103,
   "metadata": {},
   "outputs": [
    {
     "name": "stdout",
     "output_type": "stream",
     "text": "0\n1\n2\n3\n4\n"
    }
   ],
   "source": [
    "# Fungsi range()\n",
    "for i in range(5):\n",
    "    print(i)"
   ]
  },
  {
   "cell_type": "code",
   "execution_count": 105,
   "metadata": {},
   "outputs": [
    {
     "name": "stdout",
     "output_type": "stream",
     "text": "5\n6\n7\n8\n9\n"
    }
   ],
   "source": [
    "for i in range(5,10):\n",
    "    print(i)"
   ]
  },
  {
   "cell_type": "code",
   "execution_count": 106,
   "metadata": {},
   "outputs": [
    {
     "name": "stdout",
     "output_type": "stream",
     "text": "0\n3\n6\n9\n"
    }
   ],
   "source": [
    "for i in range(0, 10, 3):\n",
    "    print(i)"
   ]
  },
  {
   "cell_type": "code",
   "execution_count": 107,
   "metadata": {},
   "outputs": [
    {
     "name": "stdout",
     "output_type": "stream",
     "text": "-10\n-40\n-70\n"
    }
   ],
   "source": [
    "for i in range(-10, -100, -30):\n",
    "    print(i)"
   ]
  },
  {
   "cell_type": "code",
   "execution_count": 109,
   "metadata": {},
   "outputs": [
    {
     "name": "stdout",
     "output_type": "stream",
     "text": "0 Mary\n1 had\n2 a\n3 little\n4 lamb\n"
    }
   ],
   "source": [
    "#fungsi range() dan len()\n",
    "a = ['Mary', 'had', 'a', 'little', 'lamb']\n",
    "for i in range(len(a)):\n",
    "    print(i, a[i])"
   ]
  },
  {
   "cell_type": "code",
   "execution_count": 110,
   "metadata": {},
   "outputs": [
    {
     "name": "stdout",
     "output_type": "stream",
     "text": "range(0, 10)\n"
    }
   ],
   "source": [
    "print(range(10))"
   ]
  },
  {
   "cell_type": "code",
   "execution_count": 111,
   "metadata": {},
   "outputs": [
    {
     "data": {
      "text/plain": "6"
     },
     "execution_count": 111,
     "metadata": {},
     "output_type": "execute_result"
    }
   ],
   "source": [
    "# sum()\n",
    "sum(range(4))  # 0 + 1 + 2 + 3"
   ]
  },
  {
   "cell_type": "code",
   "execution_count": 112,
   "metadata": {},
   "outputs": [
    {
     "data": {
      "text/plain": "[0, 1, 2, 3]"
     },
     "execution_count": 112,
     "metadata": {},
     "output_type": "execute_result"
    }
   ],
   "source": [
    "list(range(4))"
   ]
  },
  {
   "cell_type": "code",
   "execution_count": null,
   "metadata": {},
   "outputs": [],
   "source": [
    "#break and continue Statements, and else Clauses on Loops"
   ]
  },
  {
   "cell_type": "code",
   "execution_count": 114,
   "metadata": {},
   "outputs": [
    {
     "name": "stdout",
     "output_type": "stream",
     "text": "3 is a prime number\n4 equals 2 * 2\n5 is a prime number\n5 is a prime number\n5 is a prime number\n6 equals 2 * 3\n7 is a prime number\n7 is a prime number\n7 is a prime number\n7 is a prime number\n7 is a prime number\n8 equals 2 * 4\n9 is a prime number\n9 equals 3 * 3\n"
    }
   ],
   "source": [
    "for n in range(2, 10):\n",
    "    for x in range(2, n):\n",
    "        if n % x == 0:\n",
    "            print(n, 'equals', x, '*', n//x)\n",
    "            break\n",
    "        else:\n",
    "#       loop fell through without finding a factor\n",
    "            print(n, 'is a prime number')"
   ]
  },
  {
   "cell_type": "code",
   "execution_count": 115,
   "metadata": {},
   "outputs": [
    {
     "name": "stdout",
     "output_type": "stream",
     "text": "Found an even number 2\nFound an even number 4\nFound an even number 6\nFound an even number 8\n"
    }
   ],
   "source": [
    "for num in range(2, 10):\n",
    "    if num % 2 == 0:\n",
    "        print(\"Found an even number\", num)\n",
    "        continue\n",
    "        print(\"Found a number\", num)"
   ]
  },
  {
   "cell_type": "code",
   "execution_count": null,
   "metadata": {},
   "outputs": [],
   "source": [
    "# Fungsi definisi"
   ]
  },
  {
   "cell_type": "code",
   "execution_count": 1,
   "metadata": {},
   "outputs": [],
   "source": [
    "def fib(n):    # write Fibonacci series up to n\n",
    "    \"\"\"Print a Fibonacci series up to n.\"\"\"\n",
    "    a, b = 0, 1\n",
    "    while a < n:\n",
    "        print(a, end=' ')\n",
    "        a, b = b, a+b\n",
    "    print()\n",
    "# Now call the function we just defined:\n",
    "    fib(2000)"
   ]
  },
  {
   "cell_type": "code",
   "execution_count": 2,
   "metadata": {},
   "outputs": [
    {
     "data": {
      "text/plain": "<function __main__.fib(n)>"
     },
     "execution_count": 2,
     "metadata": {},
     "output_type": "execute_result"
    }
   ],
   "source": [
    "fib"
   ]
  },
  {
   "cell_type": "code",
   "execution_count": 3,
   "metadata": {},
   "outputs": [
    {
     "name": "stdout",
     "output_type": "stream",
     "text": "34 55 89 144 233 377 610 987 1597 \n0 1 1 2 3 5 8 13 21 34 55 89 144 233 377 610 987 1597 \n0 1 1 2 3 5 8 13 21 34 55 89 144 233 377 610 987 1597 \n0 1 1 2 3 5 8 13 21 34 55 89 144 233 377 610 987 1597 \n0 1 1 2 3 5 8 13 21 34 55 89 144 233 377 610 987 1597 \n0 1 1 2 3 5 8 13 21 34 55 89 144 233 377 610 987 1597 \n0 1 1 2 3 5 8 13 21 34 55 89 144 233 377 610 987 1597 \n0 1 1 2 3 5 8 13 21 34 55 89 144 233 377 610 987 1597 \n0 1 1 2 3 5 8 13 21 34 55 89 144 233 377 610 987 1597 \n0 1 1 2 3 5 8 13 21 34 55 89 144 233 377 610 987 1597 \n0 1 1 2 3 5 8 13 21 34 55 89 144 233 377 610 987 1597 \n0 1 1 2 3 5 8 13 21 34 55 89 144 233 377 610 987 1597 \n0 1 1 2 3 5 8 13 21 34 55 89 144 233 377 610 987 1597 \n0 1 1 2 3 5 8 13 21 34 55 89 144 233 377 610 987 1597 \n0 1 1 2 3 5 8 13 21 34 55 89 144 233 377 610 987 1597 \n0 1 1 2 3 5 8 13 21 34 55 89 144 233 377 610 987 1597 \n0 1 1 2 3 5 8 13 21 34 55 89 144 233 377 610 987 1597 \n0 1 1 2 3 5 8 13 21 34 55 89 144 233 377 610 987 1597 \n0 1 1 2 3 5 8 13 21 34 55 89 144 233 377 610 987 1597 \n0 1 1 2 3 5 8 13 21 34 55 89 144 233 377 610 987 1597 \n0 1 1 2 3 5 8 13 21 34 55 89 144 233 377 610 987 1597 \n0 1 1 2 3 5 8 13 21 34 55 89 144 233 377 610 987 1597 \n0 1 1 2 3 5 8 13 21 34 55 89 144 233 377 610 987 1597 \n0 1 1 2 3 5 8 13 21 34 55 89 144 233 377 610 987 1597 \n0 1 1 2 3 5 8 13 21 34 55 89 144 233 377 610 987 1597 \n0 1 1 2 3 5 8 13 21 34 55 89 144 233 377 610 987 1597 \n0 1 1 2 3 5 8 13 21 34 55 89 144 233 377 610 987 1597 \n0 1 1 2 3 5 8 13 21 34 55 89 144 233 377 610 987 1597 \n0 1 1 2 3 5 8 13 21 34 55 89 144 233 377 610 987 1597 \n0 1 1 2 3 5 8 13 21 34 55 89 144 233 377 610 987 1597 \n0 1 1 2 3 5 8 13 21 34 55 89 144 233 377 610 987 1597 \n0 1 1 2 3 5 8 13 21 34 55 89 144 233 377 610 987 1597 \n0 1 1 2 3 5 8 13 21 34 55 89 144 233 377 610 987 1597 \n0 1 1 2 3 5 8 13 21 34 55 89 144 233 377 610 987 1597 \n0 1 1 2 3 5 8 13 21 34 55 89 144 233 377 610 987 1597 \n0 1 1 2 3 5 8 13 21 34 55 89 144 233 377 610 987 1597 \n0 1 1 2 3 5 8 13 21 34 55 89 144 233 377 610 987 1597 \n0 1 1 2 3 5 8 13 21 34 55 89 144 233 377 610 987 1597 \n0 1 1 2 3 5 8 13 21 34 55 89 144 233 377 610 987 1597 \n0 1 1 2 3 5 8 13 21 34 55 89 144 233 377 610 987 1597 \n0 1 1 2 3 5 8 13 21 34 55 89 144 233 377 610 987 1597 \n0 1 1 2 3 5 8 13 21 34 55 89 144 233 377 610 987 1597 \n0 1 1 2 3 5 8 13 21 34 55 89 144 233 377 610 987 1597 \n0 1 1 2 3 5 8 13 21 34 55 89 144 233 377 610 987 1597 \n0 1 1 2 3 5 8 13 21 34 55 89 144 233 377 610 987 1597 \n0 1 1 2 3 5 8 13 21 34 55 89 144 233 377 610 987 1597 \n0 1 1 2 3 5 8 13 21 34 55 89 144 233 377 610 987 1597 \n0 1 1 2 3 5 8 13 21 34 55 89 144 233 377 610 987 1597 \n0 1 1 2 3 5 8 13 21 34 55 89 144 233 377 610 987 1597 \n0 1 1 2 3 5 8 13 21 34 55 89 144 233 377 610 987 1597 \n0 1 1 2 3 5 8 13 21 34 55 89 144 233 377 610 987 1597 \n0 1 1 2 3 5 8 13 21 34 55 89 144 233 377 610 987 1597 \n0 1 1 2 3 5 8 13 21 34 55 89 144 233 377 610 987 1597 \n0 1 1 2 3 5 8 13 21 34 55 89 144 233 377 610 987 1597 \n0 1 1 2 3 5 8 13 21 34 55 89 144 233 377 610 987 1597 \n0 1 1 2 3 5 8 13 21 34 55 89 144 233 377 610 987 1597 \n0 1 1 2 3 5 8 13 21 34 55 89 144 233 377 610 987 1597 \n0 1 1 2 3 5 8 13 21 34 55 89 144 233 377 610 987 1597 \n0 1 1 2 3 5 8 13 21 34 55 89 144 233 377 610 987 1597 \n0 1 1 2 3 5 8 13 21 34 55 89 144 233 377 610 987 1597 \n0 1 1 2 3 5 8 13 21 34 55 89 144 233 377 610 987 1597 \n0 1 1 2 3 5 8 13 21 34 55 89 144 233 377 610 987 1597 \n0 1 1 2 3 5 8 13 21 34 55 89 144 233 377 610 987 1597 \n0 1 1 2 3 5 8 13 21 34 55 89 144 233 377 610 987 1597 \n0 1 1 2 3 5 8 13 21 34 55 89 144 233 377 610 987 1597 \n0 1 1 2 3 5 8 13 21 34 55 89 144 233 377 610 987 1597 \n0 1 1 2 3 5 8 13 21 34 55 89 144 233 377 610 987 1597 \n0 1 1 2 3 5 8 13 21 34 55 89 144 233 377 610 987 1597 \n0 1 1 2 3 5 8 13 21 34 55 89 144 233 377 610 987 1597 \n0 1 1 2 3 5 8 13 21 34 55 89 144 233 377 610 987 1597 \n0 1 1 2 3 5 8 13 21 34 55 89 144 233 377 610 987 1597 \n0 1 1 2 3 5 8 13 21 34 55 89 144 233 377 610 987 1597 \n0 1 1 2 3 5 8 13 21 34 55 89 144 233 377 610 987 1597 \n0 1 1 2 3 5 8 13 21 34 55 89 144 233 377 610 987 1597 \n0 1 1 2 3 5 8 13 21 34 55 89 144 233 377 610 987 1597 \n0 1 1 2 3 5 8 13 21 34 55 89 144 233 377 610 987 1597 \n0 1 1 2 3 5 8 13 21 34 55 89 144 233 377 610 987 1597 \n0 1 1 2 3 5 8 13 21 34 55 89 144 233 377 610 987 1597 \n0 1 1 2 3 5 8 13 21 34 55 89 144 233 377 610 987 1597 \n0 1 1 2 3 5 8 13 21 34 55 89 144 233 377 610 987 1597 \n0 1 1 2 3 5 8 13 21 34 55 89 144 233 377 610 987 1597 \n0 1 1 2 3 5 8 13 21 34 55 89 144 233 377 610 987 1597 \n0 1 1 2 3 5 8 13 21 34 55 89 144 233 377 610 987 1597 \n0 1 1 2 3 5 8 13 21 34 55 89 144 233 377 610 987 1597 \n0 1 1 2 3 5 8 13 21 34 55 89 144 233 377 610 987 1597 \n0 1 1 2 3 5 8 13 21 34 55 89 144 233 377 610 987 1597 \n0 1 1 2 3 5 8 13 21 34 55 89 144 233 377 610 987 1597 \n0 1 1 2 3 5 8 13 21 34 55 89 144 233 377 610 987 1597 \n0 1 1 2 3 5 8 13 21 34 55 89 144 233 377 610 987 1597 \n0 1 1 2 3 5 8 13 21 34 55 89 144 233 377 610 987 1597 \n0 1 1 2 3 5 8 13 21 34 55 89 144 233 377 610 987 1597 \n0 1 1 2 3 5 8 13 21 34 55 89 144 233 377 610 987 1597 \n0 1 1 2 3 5 8 13 21 34 55 89 144 233 377 610 987 1597 \n0 1 1 2 3 5 8 13 21 34 55 89 144 233 377 610 987 1597 \n0 1 1 2 3 5 8 13 21 34 55 89 144 233 377 610 987 1597 \n0 1 1 2 3 5 8 13 21 34 55 89 144 233 377 610 987 1597 \n0 1 1 2 3 5 8 13 21 34 55 89 144 233 377 610 987 1597 \n0 1 1 2 3 5 8 13 21 34 55 89 144 233 377 610 987 1597 \n0 1 1 2 3 5 8 13 21 34 55 89 144 233 377 610 987 1597 \n0 1 1 2 3 5 8 13 21 34 55 89 144 233 377 610 987 1597 \n0 1 1 2 3 5 8 13 21 34 55 89 144 233 377 610 987 1597 \n0 1 1 2 3 5 8 13 21 34 55 89 144 233 377 610 987 1597 \n0 1 1 2 3 5 8 13 21 34 55 89 144 233 377 610 987 1597 \n0 1 1 2 3 5 8 13 21 34 55 89 144 233 377 610 987 1597 \n0 1 1 2 3 5 8 13 21 34 55 89 144 233 377 610 987 1597 \n0 1 1 2 3 5 8 13 21 34 55 89 144 233 377 610 987 1597 \n0 1 1 2 3 5 8 13 21 34 55 89 144 233 377 610 987 1597 \n0 1 1 2 3 5 8 13 21 34 55 89 144 233 377 610 987 1597 \n0 1 1 2 3 5 8 13 21 34 55 89 144 233 377 610 987 1597 \n0 1 1 2 3 5 8 13 21 34 55 89 144 233 377 610 987 1597 \n0 1 1 2 3 5 8 13 21 34 55 89 144 233 377 610 987 1597 \n0 1 1 2 3 5 8 13 21 34 55 89 144 233 377 610 987 1597 \n0 1 1 2 3 5 8 13 21 34 55 89 144 233 377 610 987 1597 \n0 1 1 2 3 5 8 13 21 34 55 89 144 233 377 610 987 1597 \n0 1 1 2 3 5 8 13 21 34 55 89 144 233 377 610 987 1597 \n0 1 1 2 3 5 8 13 21 34 55 89 144 233 377 610 987 1597 \n0 1 1 2 3 5 8 13 21 34 55 89 144 233 377 610 987 1597 \n0 1 1 2 3 5 8 13 21 34 55 89 144 233 377 610 987 1597 \n0 1 1 2 3 5 8 13 21 34 55 89 144 233 377 610 987 1597 \n0 1 1 2 3 5 8 13 21 34 55 89 144 233 377 610 987 1597 \n0 1 1 2 3 5 8 13 21 34 55 89 144 233 377 610 987 1597 \n0 1 1 2 3 5 8 13 21 34 55 89 144 233 377 610 987 1597 \n0 1 1 2 3 5 8 13 21 34 55 89 144 233 377 610 987 1597 \n0 1 1 2 3 5 8 13 21 34 55 89 144 233 377 610 987 1597 \n0 1 1 2 3 5 8 13 21 34 55 89 144 233 377 610 987 1597 \n0 1 1 2 3 5 8 13 21 34 55 89 144 233 377 610 987 1597 \n0 1 1 2 3 5 8 13 21 34 55 89 144 233 377 610 987 1597 \n0 1 1 2 3 5 8 13 21 34 55 89 144 233 377 610 987 1597 \n0 1 1 2 3 5 8 13 21 34 55 89 144 233 377 610 987 1597 \n0 1 1 2 3 5 8 13 21 34 55 89 144 233 377 610 987 1597 \n0 1 1 2 3 5 8 13 21 34 55 89 144 233 377 610 987 1597 \n0 1 1 2 3 5 8 13 21 34 55 89 144 233 377 610 987 1597 \n0 1 1 2 3 5 8 13 21 34 55 89 144 233 377 610 987 1597 \n0 1 1 2 3 5 8 13 21 34 55 89 144 233 377 610 987 1597 \n0 1 1 2 3 5 8 13 21 34 55 89 144 233 377 610 987 1597 \n0 1 1 2 3 5 8 13 21 34 55 89 144 233 377 610 987 1597 \n0 1 1 2 3 5 8 13 21 34 55 89 144 233 377 610 987 1597 \n0 1 1 2 3 5 8 13 21 34 55 89 144 233 377 610 987 1597 \n0 1 1 2 3 5 8 13 21 34 55 89 144 233 377 610 987 1597 \n0 1 1 2 3 5 8 13 21 34 55 89 144 233 377 610 987 1597 \n0 1 1 2 3 5 8 13 21 34 55 89 144 233 377 610 987 1597 \n0 1 1 2 3 5 8 13 21 34 55 89 144 233 377 610 987 1597 \n0 1 1 2 3 5 8 13 21 34 55 89 144 233 377 610 987 1597 \n0 1 1 2 3 5 8 13 21 34 55 89 144 233 377 610 987 1597 \n0 1 1 2 3 5 8 13 21 34 55 89 144 233 377 610 987 1597 \n0 1 1 2 3 5 8 13 21 34 55 89 144 233 377 610 987 1597 \n0 1 1 2 3 5 8 13 21 34 55 89 144 233 377 610 987 1597 \n0 1 1 2 3 5 8 13 21 34 55 89 144 233 377 610 987 1597 \n0 1 1 2 3 5 8 13 21 34 55 89 144 233 377 610 987 1597 \n0 1 1 2 3 5 8 13 21 34 55 89 144 233 377 610 987 1597 \n0 1 1 2 3 5 8 13 21 34 55 89 144 233 377 610 987 1597 \n0 1 1 2 3 5 8 13 21 34 55 89 144 233 377 610 987 1597 \n0 1 1 2 3 5 8 13 21 34 55 89 144 233 377 610 987 1597 \n0 1 1 2 3 5 8 13 21 34 55 89 144 233 377 610 987 1597 \n0 1 1 2 3 5 8 13 21 34 55 89 144 233 377 610 987 1597 \n0 1 1 2 3 5 8 13 21 34 55 89 144 233 377 610 987 1597 \n0 1 1 2 3 5 8 13 21 34 55 89 144 233 377 610 987 1597 \n0 1 1 2 3 5 8 13 21 34 55 89 144 233 377 610 987 1597 \n0 1 1 2 3 5 8 13 21 34 55 89 144 233 377 610 987 1597 \n0 1 1 2 3 5 8 13 21 34 55 89 144 233 377 610 987 1597 \n0 1 1 2 3 5 8 13 21 34 55 89 144 233 377 610 987 1597 \n0 1 1 2 3 5 8 13 21 34 55 89 144 233 377 610 987 1597 \n0 1 1 2 3 5 8 13 21 34 55 89 144 233 377 610 987 1597 \n0 1 1 2 3 5 8 13 21 34 55 89 144 233 377 610 987 1597 \n0 1 1 2 3 5 8 13 21 34 55 89 144 233 377 610 987 1597 \n0 1 1 2 3 5 8 13 21 34 55 89 144 233 377 610 987 1597 \n0 1 1 2 3 5 8 13 21 34 55 89 144 233 377 610 987 1597 \n0 1 1 2 3 5 8 13 21 34 55 89 144 233 377 610 987 1597 \n0 1 1 2 3 5 8 13 21 34 55 89 144 233 377 610 987 1597 \n0 1 1 2 3 5 8 13 21 34 55 89 144 233 377 610 987 1597 \n0 1 1 2 3 5 8 13 21 34 55 89 144 233 377 610 987 1597 \n0 1 1 2 3 5 8 13 21 34 55 89 144 233 377 610 987 1597 \n0 1 1 2 3 5 8 13 21 34 55 89 144 233 377 610 987 1597 \n0 1 1 2 3 5 8 13 21 34 55 89 144 233 377 610 987 1597 \n0 1 1 2 3 5 8 13 21 34 55 89 144 233 377 610 987 1597 \n0 1 1 2 3 5 8 13 21 34 55 89 144 233 377 610 987 1597 \n0 1 1 2 3 5 8 13 21 34 55 89 144 233 377 610 987 1597 \n0 1 1 2 3 5 8 13 21 34 55 89 144 233 377 610 987 1597 \n0 1 1 2 3 5 8 13 21 34 55 89 144 233 377 610 987 1597 \n0 1 1 2 3 5 8 13 21 34 55 89 144 233 377 610 987 1597 \n0 1 1 2 3 5 8 13 21 34 55 89 144 233 377 610 987 1597 \n0 1 1 2 3 5 8 13 21 34 55 89 144 233 377 610 987 1597 \n0 1 1 2 3 5 8 13 21 34 55 89 144 233 377 610 987 1597 \n0 1 1 2 3 5 8 13 21 34 55 89 144 233 377 610 987 1597 \n0 1 1 2 3 5 8 13 21 34 55 89 144 233 377 610 987 1597 \n0 1 1 2 3 5 8 13 21 34 55 89 144 233 377 610 987 1597 \n0 1 1 2 3 5 8 13 21 34 55 89 144 233 377 610 987 1597 \n0 1 1 2 3 5 8 13 21 34 55 89 144 233 377 610 987 1597 \n0 1 1 2 3 5 8 13 21 34 55 89 144 233 377 610 987 1597 \n0 1 1 2 3 5 8 13 21 34 55 89 144 233 377 610 987 1597 \n0 1 1 2 3 5 8 13 21 34 55 89 144 233 377 610 987 1597 \n0 1 1 2 3 5 8 13 21 34 55 89 144 233 377 610 987 1597 \n0 1 1 2 3 5 8 13 21 34 55 89 144 233 377 610 987 1597 \n0 1 1 2 3 5 8 13 21 34 55 89 144 233 377 610 987 1597 \n0 1 1 2 3 5 8 13 21 34 55 89 144 233 377 610 987 1597 \n0 1 1 2 3 5 8 13 21 34 55 89 144 233 377 610 987 1597 \n0 1 1 2 3 5 8 13 21 34 55 89 144 233 377 610 987 1597 \n0 1 1 2 3 5 8 13 21 34 55 89 144 233 377 610 987 1597 \n0 1 1 2 3 5 8 13 21 34 55 89 144 233 377 610 987 1597 \n0 1 1 2 3 5 8 13 21 34 55 89 144 233 377 610 987 1597 \n0 1 1 2 3 5 8 13 21 34 55 89 144 233 377 610 987 1597 \n0 1 1 2 3 5 8 13 21 34 55 89 144 233 377 610 987 1597 \n0 1 1 2 3 5 8 13 21 34 55 89 144 233 377 610 987 1597 \n0 1 1 2 3 5 8 13 21 34 55 89 144 233 377 610 987 1597 \n0 1 1 2 3 5 8 13 21 34 55 89 144 233 377 610 987 1597 \n0 1 1 2 3 5 8 13 21 34 55 89 144 233 377 610 987 1597 \n0 1 1 2 3 5 8 13 21 34 55 89 144 233 377 610 987 1597 \n0 1 1 2 3 5 8 13 21 34 55 89 144 233 377 610 987 1597 \n0 1 1 2 3 5 8 13 21 34 55 89 144 233 377 610 987 1597 \n0 1 1 2 3 5 8 13 21 34 55 89 144 233 377 610 987 1597 \n0 1 1 2 3 5 8 13 21 34 55 89 144 233 377 610 987 1597 \n0 1 1 2 3 5 8 13 21 34 55 89 144 233 377 610 987 1597 \n0 1 1 2 3 5 8 13 21 34 55 89 144 233 377 610 987 1597 \n0 1 1 2 3 5 8 13 21 34 55 89 144 233 377 610 987 1597 \n0 1 1 2 3 5 8 13 21 34 55 89 144 233 377 610 987 1597 \n0 1 1 2 3 5 8 13 21 34 55 89 144 233 377 610 987 1597 \n0 1 1 2 3 5 8 13 21 34 55 89 144 233 377 610 987 1597 \n0 1 1 2 3 5 8 13 21 34 55 89 144 233 377 610 987 1597 \n0 1 1 2 3 5 8 13 21 34 55 89 144 233 377 610 987 1597 \n0 1 1 2 3 5 8 13 21 34 55 89 144 233 377 610 987 1597 \n0 1 1 2 3 5 8 13 21 34 55 89 144 233 377 610 987 1597 \n0 1 1 2 3 5 8 13 21 34 55 89 144 233 377 610 987 1597 \n0 1 1 2 3 5 8 13 21 34 55 89 144 233 377 610 987 1597 \n0 1 1 2 3 5 8 13 21 34 55 89 144 233 377 610 987 1597 \n0 1 1 2 3 5 8 13 21 34 55 89 144 233 377 610 987 1597 \n0 1 1 2 3 5 8 13 21 34 55 89 144 233 377 610 987 1597 \n0 1 1 2 3 5 8 13 21 34 55 89 144 233 377 610 987 1597 \n0 1 1 2 3 5 8 13 21 34 55 89 144 233 377 610 987 1597 \n0 1 1 2 3 5 8 13 21 34 55 89 144 233 377 610 987 1597 \n0 1 1 2 3 5 8 13 21 34 55 89 144 233 377 610 987 1597 \n0 1 1 2 3 5 8 13 21 34 55 89 144 233 377 610 987 1597 \n0 1 1 2 3 5 8 13 21 34 55 89 144 233 377 610 987 1597 \n0 1 1 2 3 5 8 13 21 34 55 89 144 233 377 610 987 1597 \n0 1 1 2 3 5 8 13 21 34 55 89 144 233 377 610 987 1597 \n0 1 1 2 3 5 8 13 21 34 55 89 144 233 377 610 987 1597 \n0 1 1 2 3 5 8 13 21 34 55 89 144 233 377 610 987 1597 \n0 1 1 2 3 5 8 13 21 34 55 89 144 233 377 610 987 1597 \n0 1 1 2 3 5 8 13 21 34 55 89 144 233 377 610 987 1597 \n0 1 1 2 3 5 8 13 21 34 55 89 144 233 377 610 987 1597 \n0 1 1 2 3 5 8 13 21 34 55 89 144 233 377 610 987 1597 \n0 1 1 2 3 5 8 13 21 34 55 89 144 233 377 610 987 1597 \n0 1 1 2 3 5 8 13 21 34 55 89 144 233 377 610 987 1597 \n0 1 1 2 3 5 8 13 21 34 55 89 144 233 377 610 987 1597 \n0 1 1 2 3 5 8 13 21 34 55 89 144 233 377 610 987 1597 \n0 1 1 2 3 5 8 13 21 34 55 89 144 233 377 610 987 1597 \n0 1 1 2 3 5 8 13 21 34 55 89 144 233 377 610 987 1597 \n0 1 1 2 3 5 8 13 21 34 55 89 144 233 377 610 987 1597 \n0 1 1 2 3 5 8 13 21 34 55 89 144 233 377 610 987 1597 \n0 1 1 2 3 5 8 13 21 34 55 89 144 233 377 610 987 1597 \n0 1 1 2 3 5 8 13 21 34 55 89 144 233 377 610 987 1597 \n0 1 1 2 3 5 8 13 21 34 55 89 144 233 377 610 987 1597 \n0 1 1 2 3 5 8 13 21 34 55 89 144 233 377 610 987 1597 \n0 1 1 2 3 5 8 13 21 34 55 89 144 233 377 610 987 1597 \n0 1 1 2 3 5 8 13 21 34 55 89 144 233 377 610 987 1597 \n0 1 1 2 3 5 8 13 21 34 55 89 144 233 377 610 987 1597 \n0 1 1 2 3 5 8 13 21 34 55 89 144 233 377 610 987 1597 \n0 1 1 2 3 5 8 13 21 34 55 89 144 233 377 610 987 1597 \n0 1 1 2 3 5 8 13 21 34 55 89 144 233 377 610 987 1597 \n0 1 1 2 3 5 8 13 21 34 55 89 144 233 377 610 987 1597 \n0 1 1 2 3 5 8 13 21 34 55 89 144 233 377 610 987 1597 \n0 1 1 2 3 5 8 13 21 34 55 89 144 233 377 610 987 1597 \n0 1 1 2 3 5 8 13 21 34 55 89 144 233 377 610 987 1597 \n0 1 1 2 3 5 8 13 21 34 55 89 144 233 377 610 987 1597 \n0 1 1 2 3 5 8 13 21 34 55 89 144 233 377 610 987 1597 \n0 1 1 2 3 5 8 13 21 34 55 89 144 233 377 610 987 1597 \n0 1 1 2 3 5 8 13 21 34 55 89 144 233 377 610 987 1597 \n0 1 1 2 3 5 8 13 21 34 55 89 144 233 377 610 987 1597 \n0 1 1 2 3 5 8 13 21 34 55 89 144 233 377 610 987 1597 \n0 1 1 2 3 5 8 13 21 34 55 89 144 233 377 610 987 1597 \n0 1 1 2 3 5 8 13 21 34 55 89 144 233 377 610 987 1597 \n0 1 1 2 3 5 8 13 21 34 55 89 144 233 377 610 987 1597 \n0 1 1 2 3 5 8 13 21 34 55 89 144 233 377 610 987 1597 \n0 1 1 2 3 5 8 13 21 34 55 89 144 233 377 610 987 1597 \n0 1 1 2 3 5 8 13 21 34 55 89 144 233 377 610 987 1597 \n0 1 1 2 3 5 8 13 21 34 55 89 144 233 377 610 987 1597 \n0 1 1 2 3 5 8 13 21 34 55 89 144 233 377 610 987 1597 \n0 1 1 2 3 5 8 13 21 34 55 89 144 233 377 610 987 1597 \n0 1 1 2 3 5 8 13 21 34 55 89 144 233 377 610 987 1597 \n0 1 1 2 3 5 8 13 21 34 55 89 144 233 377 610 987 1597 \n0 1 1 2 3 5 8 13 21 34 55 89 144 233 377 610 987 1597 \n0 1 1 2 3 5 8 13 21 34 55 89 144 233 377 610 987 1597 \n0 1 1 2 3 5 8 13 21 34 55 89 144 233 377 610 987 1597 \n0 1 1 2 3 5 8 13 21 34 55 89 144 233 377610 987 1597 \n0 1 1 2 3 5 8 13 21 34 55 89 144 233 377 610 987 1597 \n0 1 1 2 3 5 8 13 21 34 55 89 144 233 377 610 987 1597 \n0 1 1 2 3 5 8 13 21 34 55 89 144 233 377 610 987 1597 \n0 1 1 2 3 5 8 13 21 34 55 89 144 233 377 610 987 1597 \n0 1 1 2 3 5 8 13 21 34 55 89 144 233 377 610 987 1597 \n0 1 1 2 3 5 8 13 21 34 55 89 144 233 377 610 987 1597 \n0 1 1 2 3 5 8 13 21 34 55 89 144 233 377 610 987 1597 \n0 1 1 2 3 5 8 13 21 34 55 89 144 233 377 610 987 1597 \n0 1 1 2 3 5 8 13 21 34 55 89 144 233 377 610 987 1597 \n0 1 1 2 3 5 8 13 21 34 55 89 144 233 377 610 987 1597 \n0 1 1 2 3 5 8 13 21 34 55 89 144 233 377 610 987 1597 \n0 1 1 2 3 5 8 13 21 34 55 89 144 233 377 610 987 1597 \n0 1 1 2 3 5 8 13 21 34 55 89 144 233 377 610 987 1597 \n0 1 1 2 3 5 8 13 21 34 55 89 144 233 377 610 987 1597 \n0 1 1 2 3 5 8 13 21 34 55 89 144 233 377 610 987 1597 \n0 1 1 2 3 5 8 13 21 34 55 89 144 233 377 610 987 1597 \n0 1 1 2 3 5 8 13 21 34 55 89 144 233 377 610 987 1597 \n0 1 1 2 3 5 8 13 21 34 55 89 144 233 377 610 987 1597 \n0 1 1 2 3 5 8 13 21 34 55 89 144 233 377 610 987 1597 \n0 1 1 2 3 5 8 13 21 34 55 89 144 233 377 610 987 1597 \n0 1 1 2 3 5 8 13 21 34 55 89 144 233 377 610 987 1597 \n0 1 1 2 3 5 8 13 21 34 55 89 144 233 377 610 987 1597 \n0 1 1 2 3 5 8 13 21 34 55 89 144 233 377 610 987 1597 \n0 1 1 2 3 5 8 13 21 34 55 89 144 233 377 610 987 1597 \n0 1 1 2 3 5 8 13 21 34 55 89 144 233 377 610 987 1597 \n0 1 1 2 3 5 8 13 21 34 55 89 144 233 377 610 987 1597 \n0 1 1 2 3 5 8 13 21 34 55 89 144 233 377 610 987 1597 \n0 1 1 2 3 5 8 13 21 34 55 89 144 233 377 610 987 1597 \n0 1 1 2 3 5 8 13 21 34 55 89 144 233 377 610 987 1597 \n0 1 1 2 3 5 8 13 21 34 55 89 144 233 377 610 987 1597 \n0 1 1 2 3 5 8 13 21 34 55 89 144 233 377 610 987 1597 \n0 1 1 2 3 5 8 13 21 34 55 89 144 233 377 610 987 1597 \n0 1 1 2 3 5 8 13 21 34 55 89 144 233 377 610 987 1597 \n0 1 1 2 3 5 8 13 21 34 55 89 144 233 377 610 987 1597 \n0 1 1 2 3 5 8 13 21 34 55 89 144 233 377 610 987 1597 \n0 1 1 2 3 5 8 13 21 34 55 89 144 233 377 610 987 1597 \n0 1 1 2 3 5 8 13 21 34 55 89 144 233 377 610 987 1597 \n0 1 1 2 3 5 8 13 21 34 55 89 144 233 377 610 987 1597 \n0 1 1 2 3 5 8 13 21 34 55 89 144 233 377 610 987 1597 \n0 1 1 2 3 5 8 13 21 34 55 89 144 233 377 610 987 1597 \n0 1 1 2 3 5 8 13 21 34 55 89 144 233 377 610 987 1597 \n0 1 1 2 3 5 8 13 21 34 55 89 144 233 377 610 987 1597 \n0 1 1 2 3 5 8 13 21 34 55 89 144 233 377 610 987 1597 \n0 1 1 2 3 5 8 13 21 34 55 89 144 233 377 610 987 1597 \n0 1 1 2 3 5 8 13 21 34 55 89 144 233 377 610 987 1597 \n0 1 1 2 3 5 8 13 21 34 55 89 144 233 377 610 987 1597 \n0 1 1 2 3 5 8 13 21 34 55 89 144 233 377 610 987 1597 \n0 1 1 2 3 5 8 13 21 34 55 89 144 233 377 610 987 1597 \n0 1 1 2 3 5 8 13 21 34 55 89 144 233 377 610 987 1597 \n0 1 1 2 3 5 8 13 21 34 55 89 144 233 377 610 987 1597 \n0 1 1 2 3 5 8 13 21 34 55 89 144 233 377 610 987 1597 \n0 1 1 2 3 5 8 13 21 34 55 89 144 233 377 610 987 1597 \n0 1 1 2 3 5 8 13 21 34 55 89 144 233 377 610 987 1597 \n0 1 1 2 3 5 8 13 21 34 55 89 144 233 377 610 987 1597 \n0 1 1 2 3 5 8 13 21 34 55 89 144 233 377 610 987 1597 \n0 1 1 2 3 5 8 13 21 34 55 89 144 233 377 610 987 1597 \n0 1 1 2 3 5 8 13 21 34 55 89 144 233 377 610 987 1597 \n0 1 1 2 3 5 8 13 21 34 55 89 144 233 377 610 987 1597 \n0 1 1 2 3 5 8 13 21 34 55 89 144 233 377 610 987 1597 \n0 1 1 2 3 5 8 13 21 34 55 89 144 233 377 610 987 1597 \n0 1 1 2 3 5 8 13 21 34 55 89 144 233 377 610 987 1597 \n0 1 1 2 3 5 8 13 21 34 55 89 144 233 377 610 987 1597 \n0 1 1 2 3 5 8 13 21 34 55 89 144 233 377 610 987 1597 \n0 1 1 2 3 5 8 13 21 34 55 89 144 233 377 610 987 1597 \n0 1 1 2 3 5 8 13 21 34 55 89 144 233 377 610 987 1597 \n0 1 1 2 3 5 8 13 21 34 55 89 144 233 377 610 987 1597 \n0 1 1 2 3 5 8 13 21 34 55 89 144 233 377 610 987 1597 \n0 1 1 2 3 5 8 13 21 34 55 89 144 233 377 610 987 1597 \n0 1 1 2 3 5 8 13 21 34 55 89 144 233 377 610 987 1597 \n0 1 1 2 3 5 8 13 21 34 55 89 144 233 377 610 987 1597 \n0 1 1 2 3 5 8 13 21 34 55 89 144 233 377 610 987 1597 \n0 1 1 2 3 5 8 13 21 34 55 89 144 233 377 610 987 1597 \n0 1 1 2 3 5 8 13 21 34 55 89 144 233 377 610 987 1597 \n0 1 1 2 3 5 8 13 21 34 55 89 144 233 377 610 987 1597 \n0 1 1 2 3 5 8 13 21 34 55 89 144 233 377 610 987 1597 \n0 1 1 2 3 5 8 13 21 34 55 89 144 233 377 610 987 1597 \n0 1 1 2 3 5 8 13 21 34 55 89 144 233 377 610 987 1597 \n0 1 1 2 3 5 8 13 21 34 55 89 144 233 377 610 987 1597 \n0 1 1 2 3 5 8 13 21 34 55 89 144 233 377 610 987 1597 \n0 1 1 2 3 5 8 13 21 34 55 89 144 233 377 610 987 1597 \n0 1 1 2 3 5 8 13 21 34 55 89 144 233 377 610 987 1597 \n0"
    },
    {
     "ename": "RecursionError",
     "evalue": "maximum recursion depth exceeded in comparison",
     "output_type": "error",
     "traceback": [
      "\u001b[0;31m---------------------------------------------------------------------------\u001b[0m",
      "\u001b[0;31mRecursionError\u001b[0m                            Traceback (most recent call last)",
      "\u001b[0;32m<ipython-input-3-de94888aae55>\u001b[0m in \u001b[0;36m<module>\u001b[0;34m\u001b[0m\n\u001b[1;32m      1\u001b[0m \u001b[0mf\u001b[0m \u001b[0;34m=\u001b[0m \u001b[0mfib\u001b[0m\u001b[0;34m\u001b[0m\u001b[0;34m\u001b[0m\u001b[0m\n\u001b[0;32m----> 2\u001b[0;31m \u001b[0mf\u001b[0m\u001b[0;34m(\u001b[0m\u001b[0;36m100\u001b[0m\u001b[0;34m)\u001b[0m\u001b[0;34m\u001b[0m\u001b[0;34m\u001b[0m\u001b[0m\n\u001b[0m",
      "\u001b[0;32m<ipython-input-1-b0de1996953f>\u001b[0m in \u001b[0;36mfib\u001b[0;34m(n)\u001b[0m\n\u001b[1;32m      7\u001b[0m     \u001b[0mprint\u001b[0m\u001b[0;34m(\u001b[0m\u001b[0;34m)\u001b[0m\u001b[0;34m\u001b[0m\u001b[0;34m\u001b[0m\u001b[0m\n\u001b[1;32m      8\u001b[0m \u001b[0;31m# Now call the function we just defined:\u001b[0m\u001b[0;34m\u001b[0m\u001b[0;34m\u001b[0m\u001b[0;34m\u001b[0m\u001b[0m\n\u001b[0;32m----> 9\u001b[0;31m     \u001b[0mfib\u001b[0m\u001b[0;34m(\u001b[0m\u001b[0;36m2000\u001b[0m\u001b[0;34m)\u001b[0m\u001b[0;34m\u001b[0m\u001b[0;34m\u001b[0m\u001b[0m\n\u001b[0m",
      "... last 1 frames repeated, from the frame below ...\n",
      "\u001b[0;32m<ipython-input-1-b0de1996953f>\u001b[0m in \u001b[0;36mfib\u001b[0;34m(n)\u001b[0m\n\u001b[1;32m      7\u001b[0m     \u001b[0mprint\u001b[0m\u001b[0;34m(\u001b[0m\u001b[0;34m)\u001b[0m\u001b[0;34m\u001b[0m\u001b[0;34m\u001b[0m\u001b[0m\n\u001b[1;32m      8\u001b[0m \u001b[0;31m# Now call the function we just defined:\u001b[0m\u001b[0;34m\u001b[0m\u001b[0;34m\u001b[0m\u001b[0;34m\u001b[0m\u001b[0m\n\u001b[0;32m----> 9\u001b[0;31m     \u001b[0mfib\u001b[0m\u001b[0;34m(\u001b[0m\u001b[0;36m2000\u001b[0m\u001b[0;34m)\u001b[0m\u001b[0;34m\u001b[0m\u001b[0;34m\u001b[0m\u001b[0m\n\u001b[0m",
      "\u001b[0;31mRecursionError\u001b[0m: maximum recursion depth exceeded in comparison"
     ]
    }
   ],
   "source": [
    "f = fib\n",
    "f(100)"
   ]
  },
  {
   "cell_type": "code",
   "execution_count": 5,
   "metadata": {},
   "outputs": [
    {
     "name": "stdout",
     "output_type": "stream",
     "text": " 34 55 89 144 233 377 610 987 1597 \n0 1 1 2 3 5 8 13 21 34 55 89 144 233 377 610 987 1597 \n0 1 1 2 3 5 8 13 21 34 55 89 144 233 377 610 987 1597 \n0 1 1 2 3 5 8 13 21 34 55 89 144 233 377 610 987 1597 \n0 1 1 2 3 5 8 13 21 34 55 89 144 233 377 610 987 1597 \n0 1 1 2 3 5 8 13 21 34 55 89 144 233 377 610 987 1597 \n0 1 1 2 3 5 8 13 21 34 55 89 144 233 377 610 987 1597 \n0 1 1 2 3 5 8 13 21 34 55 89 144 233 377 610 987 1597 \n0 1 1 2 3 5 8 13 21 34 55 89 144 233 377 610 987 1597 \n0 1 1 2 3 5 8 13 21 34 55 89 144 233 377 610 987 1597 \n0 1 1 2 3 5 8 13 21 34 5589 144 233 377 610 987 1597 \n0 1 1 2 3 5 8 13 21 34 55 89 144 233 377 610 987 1597 \n0 1 1 2 3 5 8 13 21 34 55 89 144 233 377 610 987 1597 \n0 1 1 2 3 5 8 13 21 34 55 89 144 233 377 610 987 1597 \n0 1 1 2 3 5 8 13 21 34 55 89 144 233 377 610 987 1597 \n0 1 1 2 3 5 8 13 21 34 55 89 144 233 377 610 987 1597 \n0 1 1 2 3 5 8 13 21 34 55 89 144 233 377 610 987 1597 \n0 1 1 2 3 5 8 13 21 34 55 89 144 233 377 610 987 1597 \n0 1 1 2 3 5 8 13 21 34 55 89 144 233 377 610 987 1597 \n0 1 1 2 3 5 8 13 21 34 55 89 144 233 377 610 987 1597 \n0 1 1 2 3 5 8 13 21 34 55 89 144 233 377 610 987 1597 \n0 1 1 2 3 5 8 13 21 34 55 89 144 233 377 610 987 1597 \n0 1 1 2 3 5 8 13 21 34 55 89 144 233 377 610 987 1597 \n0 1 1 2 3 5 8 13 21 34 55 89 144 233 377 610 987 1597 \n0 1 1 2 3 5 8 13 21 34 55 89 144 233 377 610 987 1597 \n0 1 1 2 3 5 8 13 21 34 55 89 144 233 377 610 987 1597 \n0 1 1 2 3 5 8 13 21 34 55 89 144 233 377 610 987 1597 \n0 1 1 2 3 5 8 13 21 34 55 89 144 233 377 610 987 1597 \n0 1 1 2 3 5 8 13 21 34 55 89 144 233 377 610 987 1597 \n0 1 1 2 3 5 8 13 21 34 55 89 144 233 377 610 987 1597 \n0 1 1 2 3 5 8 13 21 34 55 89 144 233 377 610 987 1597 \n0 1 1 2 3 5 8 13 21 34 55 89 144 233 377 610 987 1597 \n0 1 1 2 3 5 8 13 21 34 55 89 144 233 377 610 987 1597 \n0 1 1 2 3 5 8 13 21 34 55 89 144 233 377 610 987 1597 \n0 1 1 2 3 5 8 13 21 34 55 89 144 233 377 610 987 1597 \n0 1 1 2 3 5 8 13 21 34 55 89 144 233 377 610 987 1597 \n0 1 1 2 3 5 8 13 21 34 55 89 144 233 377 610 987 1597 \n0 1 1 2 3 5 8 13 21 34 55 89 144 233 377 610 987 1597 \n0 1 1 2 3 5 8 13 21 34 55 89 144 233 377 610 987 1597 \n0 1 1 2 3 5 8 13 21 34 55 89 144 233 377 610 987 1597 \n0 1 1 2 3 5 8 13 21 34 55 89 144 233 377 610 987 1597 \n0 1 1 2 3 5 8 13 21 34 55 89 144 233 377 610 987 1597 \n0 1 1 2 3 5 8 13 21 34 55 89 144 233 377 610 987 1597 \n0 1 1 2 3 5 8 13 21 34 55 89 144 233 377 610 987 1597 \n0 1 1 2 3 5 8 13 21 34 55 89 144 233 377 610 987 1597 \n0 1 1 2 3 5 8 13 21 34 55 89 144 233 377 610 987 1597 \n0 1 1 2 3 5 8 13 21 34 55 89 144 233 377 610 987 1597 \n0 1 1 2 3 5 8 13 21 34 55 89 144 233 377 610 987 1597 \n0 1 1 2 3 5 8 13 21 34 55 89 144 233 377 610 987 1597 \n0 1 1 2 3 5 8 13 21 34 55 89 144 233 377 610 987 1597 \n0 1 1 2 3 5 8 13 21 34 55 89 144 233 377 610 987 1597 \n0 1 1 2 3 5 8 13 21 34 55 89 144 233 377 610 987 1597 \n0 1 1 2 3 5 8 13 21 34 55 89 144 233 377 610 987 1597 \n0 1 1 2 3 5 8 13 21 34 55 89 144 233 377 610 987 1597 \n0 1 1 2 3 5 8 13 21 34 55 89 144 233 377 610 987 1597 \n0 1 1 2 3 5 8 13 21 34 55 89 144 233 377 610 987 1597 \n0 1 1 2 3 5 8 13 21 34 55 89 144 233 377 610 987 1597 \n0 1 1 2 3 5 8 13 21 34 55 89 144 233 377 610 987 1597 \n0 1 1 2 3 5 8 13 21 34 55 89 144 233 377 610 987 1597 \n0 1 1 2 3 5 8 13 21 34 55 89 144 233 377 610 987 1597 \n0 1 1 2 3 5 8 13 21 34 55 89 144 233 377 610 987 1597 \n0 1 1 2 3 5 8 13 21 34 55 89 144 233 377 610 987 1597 \n0 1 1 2 3 5 8 13 21 34 55 89 144 233 377 610 987 1597 \n0 1 1 2 3 5 8 13 21 34 55 89 144 233 377 610 987 1597 \n0 1 1 2 3 5 8 13 21 34 55 89 144 233 377 610 987 1597 \n0 1 1 2 3 5 8 13 21 34 55 89 144 233 377 610 987 1597 \n0 1 1 2 3 5 8 13 21 34 55 89 144 233 377 610 987 1597 \n0 1 1 2 3 5 8 13 21 34 55 89 144 233 377 610 987 1597 \n0 1 1 2 3 5 8 13 21 34 55 89 144 233 377 610 987 1597 \n0 1 1 2 3 5 8 13 21 34 55 89 144 233 377 610 987 1597 \n0 1 1 2 3 5 8 13 21 34 55 89 144 233 377 610 987 1597 \n0 1 1 2 3 5 8 13 21 34 55 89 144 233 377 610 987 1597 \n0 1 1 2 3 5 8 13 21 34 55 89 144 233 377 610 987 1597 \n0 1 1 2 3 5 8 13 21 34 55 89 144 233 377 610 987 1597 \n0 1 1 2 3 5 8 13 21 34 55 89 144 233 377 610 987 1597 \n0 1 1 2 3 5 8 13 21 34 55 89 144 233 377 610 987 1597 \n0 1 1 2 3 5 8 13 21 34 55 89 144 233 377 610 987 1597 \n0 1 1 2 3 5 8 13 21 34 55 89 144 233 377 610 987 1597 \n0 1 1 2 3 5 8 13 21 34 55 89 144 233 377 610 987 1597 \n0 1 1 2 3 5 8 13 21 34 55 89 144 233 377 610 987 1597 \n0 1 1 2 3 5 8 13 21 34 55 89 144 233 377 610 987 1597 \n0 1 1 2 3 5 8 13 21 34 55 89 144 233 377 610 987 1597 \n0 1 1 2 3 5 8 13 21 34 55 89 144 233 377 610 987 1597 \n0 1 1 2 3 5 8 13 21 34 55 89 144 233 377 610 987 1597 \n0 1 1 2 3 5 8 13 21 34 55 89 144 233 377 610 987 1597 \n0 1 1 2 3 5 8 13 21 34 55 89 144 233 377 610 987 1597 \n0 1 1 2 3 5 8 13 21 34 55 89 144 233 377 610 987 1597 \n0 1 1 2 3 5 8 13 21 34 55 89 144 233 377 610 987 1597 \n0 1 1 2 3 5 8 13 21 34 55 89 144 233 377 610 987 1597 \n0 1 1 2 3 5 8 13 21 34 55 89 144 233 377 610 987 1597 \n0 1 1 2 3 5 8 13 21 34 55 89 144 233 377 610 987 1597 \n0 1 1 2 3 5 8 13 21 34 55 89 144 233 377 610 987 1597 \n0 1 1 2 3 5 8 13 21 34 55 89 144 233 377 610 987 1597 \n0 1 1 2 3 5 8 13 21 34 55 89 144 233 377 610 987 1597 \n0 1 1 2 3 5 8 13 21 34 55 89 144 233 377 610 987 1597 \n0 1 1 2 3 5 8 13 21 34 55 89 144 233 377 610 987 1597 \n0 1 1 2 3 5 8 13 21 34 55 89 144 233 377 610 987 1597 \n0 1 1 2 3 5 8 13 21 34 55 89 144 233 377 610 987 1597 \n0 1 1 2 3 5 8 13 21 34 55 89 144 233 377 610 987 1597 \n0 1 1 2 3 5 8 13 21 34 55 89 144 233 377 610 987 1597 \n0 1 1 2 3 5 8 13 21 34 55 89 144 233 377 610 987 1597 \n0 1 1 2 3 5 8 13 21 34 55 89 144 233 377 610 987 1597 \n0 1 1 2 3 5 8 13 21 34 55 89 144 233 377 610 987 1597 \n0 1 1 2 3 5 8 13 21 34 55 89 144 233 377 610 987 1597 \n0 1 1 2 3 5 8 13 21 34 55 89 144 233 377 610 987 1597 \n0 1 1 2 3 5 8 13 21 34 55 89 144 233 377 610 987 1597 \n0 1 1 2 3 5 8 13 21 34 55 89 144 233 377 610 987 1597 \n0 1 1 2 3 5 8 13 21 34 55 89 144 233 377 610 987 1597 \n0 1 1 2 3 5 8 13 21 34 55 89 144 233 377 610 987 1597 \n0 1 1 2 3 5 8 13 21 34 55 89 144 233 377 610 987 1597 \n0 1 1 2 3 5 8 13 21 34 55 89 144 233 377 610 987 1597 \n0 1 1 2 3 5 8 13 21 34 55 89 144 233 377 610 987 1597 \n0 1 1 2 3 5 8 13 21 34 55 89 144 233 377 610 987 1597 \n0 1 1 2 3 5 8 13 21 34 55 89 144 233 377 610 987 1597 \n0 1 1 2 3 5 8 13 21 34 55 89 144 233 377 610 987 1597 \n0 1 1 2 3 5 8 13 21 34 55 89 144 233 377 610 987 1597 \n0 1 1 2 3 5 8 13 21 34 55 89 144 233 377 610 987 1597 \n0 1 1 2 3 5 8 13 21 34 55 89 144 233 377 610 987 1597 \n0 1 1 2 3 5 8 13 21 34 55 89 144 233 377 610 987 1597 \n0 1 1 2 3 5 8 13 21 34 55 89 144 233 377 610 987 1597 \n0 1 1 2 3 5 8 13 21 34 55 89 144 233 377 610 987 1597 \n0 1 1 2 3 5 8 13 21 34 55 89 144 233 377 610 987 1597 \n0 1 1 2 3 5 8 13 21 34 55 89 144 233 377 610 987 1597 \n0 1 1 2 3 5 8 13 21 34 55 89 144 233 377 610 987 1597 \n0 1 1 2 3 5 8 13 21 34 55 89 144 233 377 610 987 1597 \n0 1 1 2 3 5 8 13 21 34 55 89 144 233 377 610 987 1597 \n0 1 1 2 3 5 8 13 21 34 55 89 144 233 377 610 987 1597 \n0 1 1 2 3 5 8 13 21 34 55 89 144 233 377 610 987 1597 \n0 1 1 2 3 5 8 13 21 34 55 89 144 233 377 610 987 1597 \n0 1 1 2 3 5 8 13 21 34 55 89 144 233 377 610 987 1597 \n0 1 1 2 3 5 8 13 21 34 55 89 144 233 377 610 987 1597 \n0 1 1 2 3 5 8 13 21 34 55 89 144 233 377 610 987 1597 \n0 1 1 2 3 5 8 13 21 34 55 89 144 233 377 610 987 1597 \n0 1 1 2 3 5 8 13 21 34 55 89 144 233 377 610 987 1597 \n0 1 1 2 3 5 8 13 21 34 55 89 144 233 377 610 987 1597 \n0 1 1 2 3 5 8 13 21 34 55 89 144 233 377 610 987 1597 \n0 1 1 2 3 5 8 13 21 34 55 89 144 233 377 610 987 1597 \n0 1 1 2 3 5 8 13 21 34 55 89 144 233 377 610 987 1597 \n0 1 1 2 3 5 8 13 21 34 55 89 144 233 377 610 987 1597 \n0 1 1 2 3 5 8 13 21 34 55 89 144 233 377 610 987 1597 \n0 1 1 2 3 5 8 13 21 34 55 89 144 233 377 610 987 1597 \n0 1 1 2 3 5 8 13 21 34 55 89 144 233 377 610 987 1597 \n0 1 1 2 3 5 8 13 21 34 55 89 144 233 377 610 987 1597 \n0 1 1 2 3 5 8 13 21 34 55 89 144 233 377 610 987 1597 \n0 1 1 2 3 5 8 13 21 34 55 89 144 233 377 610 987 1597 \n0 1 1 2 3 5 8 13 21 34 55 89 144 233 377 610 987 1597 \n0 1 1 2 3 5 8 13 21 34 55 89 144 233 377 610 987 1597 \n0 1 1 2 3 5 8 13 21 34 55 89 144 233 377 610 987 1597 \n0 1 1 2 3 5 8 13 21 34 55 89 144 233 377 610 987 1597 \n0 1 1 2 3 5 8 13 21 34 55 89 144 233 377 610 987 1597 \n0 1 1 2 3 5 8 13 21 34 55 89 144 233 377 610 987 1597 \n0 1 1 2 3 5 8 13 21 34 55 89 144 233 377 610 987 1597 \n0 1 1 2 3 5 8 13 21 34 55 89 144 233 377 610 987 1597 \n0 1 1 2 3 5 8 13 21 34 55 89 144 233 377 610 987 1597 \n0 1 1 2 3 5 8 13 21 34 55 89 144 233 377 610 987 1597 \n0 1 1 2 3 5 8 13 21 34 55 89 144 233 377 610 987 1597 \n0 1 1 2 3 5 8 13 21 34 55 89 144 233 377 610 987 1597 \n0 1 1 2 3 5 8 13 21 34 55 89 144 233 377 610 987 1597 \n0 1 1 2 3 5 8 13 21 34 55 89 144 233 377 610 987 1597 \n0 1 1 2 3 5 8 13 21 34 55 89 144 233 377 610 987 1597 \n0 1 1 2 3 5 8 13 21 34 55 89 144 233 377 610 987 1597 \n0 1 1 2 3 5 8 13 21 34 55 89 144 233 377 610 987 1597 \n0 1 1 2 3 5 8 13 21 34 55 89 144 233 377 610 987 1597 \n0 1 1 2 3 5 8 13 21 34 55 89 144 233 377 610 987 1597 \n0 1 1 2 3 5 8 13 21 34 55 89 144 233 377 610 987 1597 \n0 1 1 2 3 5 8 13 21 34 55 89 144 233 377 610 987 1597 \n0 1 1 2 3 5 8 13 21 34 55 89 144 233 377 610 987 1597 \n0 1 1 2 3 5 8 13 21 34 55 89 144 233 377 610 987 1597 \n0 1 1 2 3 5 8 13 21 34 55 89 144 233 377 610 987 1597 \n0 1 1 2 3 5 8 13 21 34 55 89 144 233 377 610 987 1597 \n0 1 1 2 3 5 8 13 21 34 55 89 144 233 377 610 987 1597 \n0 1 1 2 3 5 8 13 21 34 55 89 144 233 377 610 987 1597 \n0 1 1 2 3 5 8 13 21 34 55 89 144 233 377 610 987 1597 \n0 1 1 2 3 5 8 13 21 34 55 89 144 233 377 610 987 1597 \n0 1 1 2 3 5 8 13 21 34 55 89 144 233 377 610 987 1597 \n0 1 1 2 3 5 8 13 21 34 55 89 144 233 377 610 987 1597 \n0 1 1 2 3 5 8 13 21 34 55 89 144 233 377 610 987 1597 \n0 1 1 2 3 5 8 13 21 34 55 89 144 233 377 610 987 1597 \n0 1 1 2 3 5 8 13 21 34 55 89 144 233 377 610 987 1597 \n0 1 1 2 3 5 8 13 21 34 55 89 144 233 377 610 987 1597 \n0 1 1 2 3 5 8 13 21 34 55 89 144 233 377 610 987 1597 \n0 1 1 2 3 5 8 13 21 34 55 89 144 233 377 610 987 1597 \n0 1 1 2 3 5 8 13 21 34 55 89 144 233 377 610 987 1597 \n0 1 1 2 3 5 8 13 21 34 55 89 144 233 377 610 987 1597 \n0 1 1 2 3 5 8 13 21 34 55 89 144 233 377 610 987 1597 \n0 1 1 2 3 5 8 13 21 34 55 89 144 233 377 610 987 1597 \n0 1 1 2 3 5 8 13 21 34 55 89 144 233 377 610 987 1597 \n0 1 1 2 3 5 8 13 21 34 55 89 144 233 377 610 987 1597 \n0 1 1 2 3 5 8 13 21 34 55 89 144 233 377 610 987 1597 \n0 1 1 2 3 5 8 13 21 34 55 89 144 233 377 610 987 1597 \n0 1 1 2 3 5 8 13 21 34 55 89 144 233 377 610 987 1597 \n0 1 1 2 3 5 8 13 21 34 55 89 144 233 377 610 987 1597 \n0 1 1 2 3 5 8 13 21 34 55 89 144 233 377 610 987 1597 \n0 1 1 2 3 5 8 13 21 34 55 89 144 233 377 610 987 1597 \n0 1 1 2 3 5 8 13 21 34 55 89 144 233 377 610 987 1597 \n0 1 1 2 3 5 8 13 21 34 55 89 144 233 377 610 987 1597 \n0 1 1 2 3 5 8 13 21 34 55 89 144 233 377 610 987 1597 \n0 1 1 2 3 5 8 13 21 34 55 89 144 233 377 610 987 1597 \n0 1 1 2 3 5 8 13 21 34 55 89 144 233 377 610 987 1597 \n0 1 1 2 3 5 8 13 21 34 55 89 144 233 377 610 987 1597 \n0 1 1 2 3 5 8 13 21 34 55 89 144 233 377 610 987 1597 \n0 1 1 2 3 5 8 13 21 34 55 89 144 233 377 610 987 1597 \n0 1 1 2 3 5 8 13 21 34 55 89 144 233 377 610 987 1597 \n0 1 1 2 3 5 8 13 21 34 55 89 144 233 377 610 987 1597 \n0 1 1 2 3 5 8 13 21 34 55 89 144 233 377 610 987 1597 \n0 1 1 2 3 5 8 13 21 34 55 89 144 233 377 610 987 1597 \n0 1 1 2 3 5 8 13 21 34 55 89 144 233 377 610 987 1597 \n0 1 1 2 3 5 8 13 21 34 55 89 144 233 377 610 987 1597 \n0 1 1 2 3 5 8 13 21 34 55 89 144 233 377 610 987 1597 \n0 1 1 2 3 5 8 13 21 34 55 89 144 233 377 610 987 1597 \n0 1 1 2 3 5 8 13 21 34 55 89 144 233 377 610 987 1597 \n0 1 1 2 3 5 8 13 21 34 55 89 144 233 377 610 987 1597 \n0 1 1 2 3 5 8 13 21 34 55 89 144 233 377 610 987 1597 \n0 1 1 2 3 5 8 13 21 34 55 89 144 233 377 610 987 1597 \n0 1 1 2 3 5 8 13 21 34 55 89 144 233 377 610 987 1597 \n0 1 1 2 3 5 8 13 21 34 55 89 144 233 377 610 987 1597 \n0 1 1 2 3 5 8 13 21 34 55 89 144 233 377 610 987 1597 \n0 1 1 2 3 5 8 13 21 34 55 89 144 233 377 610 987 1597 \n0 1 1 2 3 5 8 13 21 34 55 89 144 233 377 610 987 1597 \n0 1 1 2 3 5 8 13 21 34 55 89 144 233 377 610 987 1597 \n0 1 1 2 3 5 8 13 21 34 55 89 144 233 377 610 987 1597 \n0 1 1 2 3 5 8 13 21 34 55 89 144 233 377 610 987 1597 \n0 1 1 2 3 5 8 13 21 34 55 89 144 233 377 610 987 1597 \n0 1 1 2 3 5 8 13 21 34 55 89 144 233 377 610 987 1597 \n0 1 1 2 3 5 8 13 21 34 55 89 144 233 377 610 987 1597 \n0 1 1 2 3 5 8 13 21 34 55 89 144 233 377 610 987 1597 \n0 1 1 2 3 5 8 13 21 34 55 89 144 233 377 610 987 1597 \n0 1 1 2 3 5 8 13 21 34 55 89 144 233 377 610 987 1597 \n0 1 1 2 3 5 8 13 21 34 55 89 144 233 377 610 987 1597 \n0 1 1 2 3 5 8 13 21 34 55 89 144 233 377 610 987 1597 \n0 1 1 2 3 5 8 13 21 34 55 89 144 233 377 610 987 1597 \n0 1 1 2 3 5 8 13 21 34 55 89 144 233 377 610 987 1597 \n0 1 1 2 3 5 8 13 21 34 55 89 144 233 377 610 987 1597 \n0 1 1 2 3 5 8 13 21 34 55 89 144 233 377 610 987 1597 \n0 1 1 2 3 5 8 13 21 34 55 89 144 233 377 610 987 1597 \n0 1 1 2 3 5 8 13 21 34 55 89 144 233 377 610 987 1597 \n0 1 1 2 3 5 8 13 21 34 55 89 144 233 377 610 987 1597 \n0 1 1 2 3 5 8 13 21 34 55 89 144 233 377 610 987 1597 \n0 1 1 2 3 5 8 13 21 34 55 89 144 233 377 610 987 1597 \n0 1 1 2 3 5 8 13 21 34 55 89 144 233 377 610 987 1597 \n0 1 1 2 3 5 8 13 21 34 55 89 144 233 377 610 987 1597 \n0 1 1 2 3 5 8 13 21 34 55 89 144 233 377 610 987 1597 \n0 1 1 2 3 5 8 13 21 34 55 89 144 233 377 610 987 1597 \n0 1 1 2 3 5 8 13 21 34 55 89 144 233 377 610 987 1597 \n0 1 1 2 3 5 8 13 21 34 55 89 144 233 377 610 987 1597 \n0 1 1 2 3 5 8 13 21 34 55 89 144 233 377 610 987 1597 \n0 1 1 2 3 5 8 13 21 34 55 89 144 233 377 610 987 1597 \n0 1 1 2 3 5 8 13 21 34 55 89 144 233 377 610 987 1597 \n0 1 1 2 3 5 8 13 21 34 55 89 144 233 377 610 987 1597 \n0 1 1 2 3 5 8 13 21 34 55 89 144 233 377 610 987 1597 \n0 1 1 2 3 5 8 13 21 34 55 89 144 233 377 610 987 1597 \n0 1 1 2 3 5 8 13 21 34 55 89 144 233 377 610 987 1597 \n0 1 1 2 3 5 8 13 21 34 55 89 144 233 377 610 987 1597 \n0 1 1 2 3 5 8 13 21 34 55 89 144 233 377 610 987 1597 \n0 1 1 2 3 5 8 13 21 34 55 89 144 233 377 610 987 1597 \n0 1 1 2 3 5 8 13 21 34 55 89 144 233 377 610 987 1597 \n0 1 1 2 3 5 8 13 21 34 55 89 144 233 377 610 987 1597 \n0 1 1 2 3 5 8 13 21 34 55 89 144 233 377 610 987 1597 \n0 1 1 2 3 5 8 13 21 34 55 89 144 233 377 610 987 1597 \n0 1 1 2 3 5 8 13 21 34 55 89 144 233 377 610 987 1597 \n0 1 1 2 3 5 8 13 21 34 55 89 144 233 377 610 987 1597 \n0 1 1 2 3 5 8 13 21 34 55 89 144 233 377 610 987 1597 \n0 1 1 2 3 5 8 13 21 34 55 89 144 233 377 610 987 1597 \n0 1 1 2 3 5 8 13 21 34 55 89 144 233 377 610 987 1597 \n0 1 1 2 3 5 8 13 21 34 55 89 144 233 377 610 987 1597 \n0 1 1 2 3 5 8 13 21 34 55 89 144 233 377 610 987 1597 \n0 1 1 2 3 5 8 13 21 34 55 89 144 233 377 610 987 1597 \n0 1 1 2 3 5 8 13 21 34 55 89 144 233 377 610 987 1597 \n0 1 1 2 3 5 8 13 21 34 55 89 144 233 377 610 987 1597 \n0 1 1 2 3 5 8 13 21 34 55 89 144 233 377 610 987 1597 \n0 1 1 2 3 5 8 13 21 34 55 89 144 233 377 610 987 1597 \n0 1 1 2 3 5 8 13 21 34 55 89 144 233 377 610 987 1597 \n0 1 1 2 3 5 8 13 21 34 55 89 144 233 377 610 987 1597 \n0 1 1 2 3 5 8 13 21 34 55 89 144 233 377 610 987 1597 \n0 1 1 2 3 5 8 13 21 34 55 89 144 233 377 610 987 1597 \n0 1 1 2 3 5 8 13 21 34 55 89 144 233 377 610 987 1597 \n0 1 1 2 3 5 8 13 21 34 55 89 144 233 377 610 987 1597 \n0 1 1 2 3 5 8 13 21 34 55 89 144 233 377 610 987 1597 \n0 1 1 2 3 5 8 13 21 34 55 89 144 233 377 610 987 1597 \n0 1 1 2 3 5 8 13 21 34 55 89 144 233 377 610 987 1597 \n0 1 1 2 3 5 8 13 21 34 55 89 144 233 377 610 987 1597 \n0 1 1 2 3 5 8 13 21 34 55 89 144 233 377 610 987 1597 \n0 1 1 2 3 5 8 13 21 34 55 89 144 233 377 610 987 1597 \n0 1 1 2 3 5 8 13 21 34 55 89 144 233 377 610 987 1597 \n0 1 1 2 3 5 8 13 21 34 55 89 144 233 377 610 987 1597 \n0 1 1 2 3 5 8 13 21 34 55 89 144 233 377 610 987 1597 \n0 1 1 2 3 5 8 13 21 34 55 89 144 233 377 610 987 1597 \n0 1 1 2 3 5 8 13 21 34 55 89 144 233 377 610 987 1597 \n0 1 1 2 3 5 8 13 21 34 55 89 144 233 377 610 987 1597 \n0 1 1 2 3 5 8 13 21 34 55 89 144 233 377 610 987 1597 \n0 1 1 2 3 5 8 13 21 34 55 89 144 233 377 610 987 1597 \n0 1 1 2 3 5 8 13 21 34 55 89 144 233 377 610 987 1597 \n0 1 1 2 3 5 8 13 21 34 55 89 144 233 377 610 987 1597 \n0 1 1 2 3 5 8 13 21 34 55 89 144 233 377 610 987 1597 \n0 1 1 2 3 5 8 13 21 34 55 89 144 233 377 610 987 1597 \n0 1 1 2 3 5 8 13 21 34 55 89 144 233 377 610 987 1597 \n0 1 1 2 3 5 8 13 21 34 55 89 144 233 377 610 987 1597 \n0 1 1 2 3 5 8 13 21 34 55 89 144 233 377 610 987 1597 \n0 1 1 2 3 5 8 13 21 34 55 89 144 233 377 610 987 1597 \n0 1 1 2 3 5 8 13 21 34 55 89 144 233 377 610 987 1597 \n0 1 1 2 3 5 8 13 21 34 55 89 144 233 377 610 987 1597 \n0 1 1 2 3 5 8 13 21 34 55 89 144 233 377 610 987 1597 \n0 1 1 2 3 5 8 13 21 34 55 89 144 233 377 610 987 1597 \n0 1 1 2 3 5 8 13 21 34 55 89 144 233 377 610 987 1597 \n0 1 1 2 3 5 8 13 21 34 55 89 144 233 377 610 987 1597 \n0 1 1 2 3 5 8 13 21 34 55 89 144 233 377 610 987 1597 \n0 1 1 2 3 5 813 21 34 55 89 144 233 377 610 987 1597 \n0 1 1 2 3 5 8 13 21 34 55 89 144 233 377 610 987 1597 \n0 1 1 2 3 5 8 13 21 34 55 89 144 233 377 610 987 1597 \n0 1 1 2 3 5 8 13 21 34 55 89 144 233 377 610 987 1597 \n0 1 1 2 3 5 8 13 21 34 55 89 144 233 377 610 987 1597 \n0 1 1 2 3 5 8 13 21 34 55 89 144 233 377 610 987 1597 \n0 1 1 2 3 5 8 13 21 34 55 89 144 233 377 610 987 1597 \n0 1 1 2 3 5 8 13 21 34 55 89 144 233 377 610 987 1597 \n0 1 1 2 3 5 8 13 21 34 55 89 144 233 377 610 987 1597 \n0 1 1 2 3 5 8 13 21 34 55 89 144 233 377 610 987 1597 \n0 1 1 2 3 5 8 13 21 34 55 89 144 233 377 610 987 1597 \n0 1 1 2 3 5 8 13 21 34 55 89 144 233 377 610 987 1597 \n0 1 1 2 3 5 8 13 21 34 55 89 144 233 377 610 987 1597 \n0 1 1 2 3 5 8 13 21 34 55 89 144 233 377 610 987 1597 \n0 1 1 2 3 5 8 13 21 34 55 89 144 233 377 610 987 1597 \n0 1 1 2 3 5 8 13 21 34 55 89 144 233 377 610 987 1597 \n0 1 1 2 3 5 8 13 21 34 55 89 144 233 377 610 987 1597 \n0 1 1 2 3 5 8 13 21 34 55 89 144 233 377 610 987 1597 \n0 1 1 2 3 5 8 13 21 34 55 89 144 233 377 610 987 1597 \n0 1 1 2 3 5 8 13 21 34 55 89 144 233 377 610 987 1597 \n0 1 1 2 3 5 8 13 21 34 55 89 144 233 377 610 987 1597 \n0 1 1 2 3 5 8 13 21 34 55 89 144 233 377 610 987 1597 \n0 1 1 2 3 5 8 13 21 34 55 89 144 233 377 610 987 1597 \n0 1 1 2 3 5 8 13 21 34 55 89 144 233 377 610 987 1597 \n0 1 1 2 3 5 8 13 21 34 55 89 144 233 377 610 987 1597 \n0 1 1 2 3 5 8 13 21 34 55 89 144 233 377 610 987 1597 \n0 1 1 2 3 5 8 13 21 34 55 89 144 233 377 610 987 1597 \n0 1 1 2 3 5 8 13 21 34 55 89 144 233 377 610 987 1597 \n0 1 1 2 3 5 8 13 21 34 55 89 144 233 377 610 987 1597 \n0 1 1 2 3 5 8 13 21 34 55 89 144 233 377 610 987 1597 \n0 1 1 2 3 5 8 13 21 34 55 89 144 233 377 610 987 1597 \n0 1 1 2 3 5 8 13 21 34 55 89 144 233 377 610 987 1597 \n0 1 1 2 3 5 8 13 21 34 55 89 144 233 377 610 987 1597 \n0 1 1 2 3 5 8 13 21 34 55 89 144 233 377 610 987 1597 \n0 1 1 2 3 5 8 13 21 34 55 89 144 233 377 610 987 1597 \n0 1 1 2 3 5 8 13 21 34 55 89 144 233 377 610 987 1597 \n0 1 1 2 3 5 8 13 21 34 55 89 144 233 377 610 987 1597 \n0 1 1 2 3 5 8 13 21 34 55 89 144 233 377 610 987 1597 \n0 1 1 2 3 5 8 13 21 34 55 89 144 233 377 610 987 1597 \n0 1 1 2 3 5 8 13 21 34 55 89 144 233 377 610 987 1597 \n0 1 1 2 3 5 8 13 21 34 55 89 144 233 377 610 987 1597 \n0 1 1 2 3 5 8 13 21 34 55 89 144 233 377 610 987 1597 \n0 1 1 2 3 5 8 13 21 34 55 89 144 233 377 610 987 1597 \n0 1 1 2 3 5 8 13 21 34 55 89 144 233 377 610 987 1597 \n0 1 1 2 3 5 8 13 21 34 55 89 144 233 377 610 987 1597 \n0 1 1 2 3 5 8 13 21 34 55 89 144 233 377 610 987 1597 \n0 1 1 2 3 5 8 13 21 34 55 89 144 233 377 610 987 1597 \n0 1 1 2 3 5 8 13 21 34 55 89 144 233 377 610 987 1597 \n0 1 1 2 3 5 8 13 21 34 55 89 144 233 377 610 987 1597 \n0 1 1 2 3 5 8 13 21 34 55 89 144 233 377 610 987 1597 \n0 1 1 2 3 5 8 13 21 34 55 89 144 233 377 610 987 1597 \n0 1 1 2 3 5 8 13 21 34 55 89 144 233 377 610 987 1597 \n0 1 1 2 3 5 8 13 21 34 55 89 144 233 377 610 987 1597 \n0 1 1 2 3 5 8 13 21 34 55 89 144 233 377 610 987 1597 \n0 1 1 2 3 5 8 13 21 34 55 89 144 233 377 610 987 1597 \n0 1 1 2 3 5 8 13 21 34 55 89 144 233 377 610 987 1597 \n0 1 1 2 3 5 8 13 21 34 55 89 144 233 377 610 987 1597 \n0 1 1 2 3 5 8 13 21 34 55 89 144 233 377 610 987 1597 \n0"
    },
    {
     "ename": "RecursionError",
     "evalue": "maximum recursion depth exceeded in comparison",
     "output_type": "error",
     "traceback": [
      "\u001b[0;31m---------------------------------------------------------------------------\u001b[0m",
      "\u001b[0;31mRecursionError\u001b[0m                            Traceback (most recent call last)",
      "\u001b[0;32m<ipython-input-5-b6168cbf9d2b>\u001b[0m in \u001b[0;36m<module>\u001b[0;34m\u001b[0m\n\u001b[0;32m----> 1\u001b[0;31m \u001b[0mfib\u001b[0m\u001b[0;34m(\u001b[0m\u001b[0;36m0\u001b[0m\u001b[0;34m)\u001b[0m\u001b[0;34m\u001b[0m\u001b[0;34m\u001b[0m\u001b[0m\n\u001b[0m\u001b[1;32m      2\u001b[0m \u001b[0mprint\u001b[0m\u001b[0;34m(\u001b[0m\u001b[0mfib\u001b[0m\u001b[0;34m(\u001b[0m\u001b[0;36m0\u001b[0m\u001b[0;34m)\u001b[0m\u001b[0;34m)\u001b[0m\u001b[0;34m\u001b[0m\u001b[0;34m\u001b[0m\u001b[0m\n",
      "\u001b[0;32m<ipython-input-1-b0de1996953f>\u001b[0m in \u001b[0;36mfib\u001b[0;34m(n)\u001b[0m\n\u001b[1;32m      7\u001b[0m     \u001b[0mprint\u001b[0m\u001b[0;34m(\u001b[0m\u001b[0;34m)\u001b[0m\u001b[0;34m\u001b[0m\u001b[0;34m\u001b[0m\u001b[0m\n\u001b[1;32m      8\u001b[0m \u001b[0;31m# Now call the function we just defined:\u001b[0m\u001b[0;34m\u001b[0m\u001b[0;34m\u001b[0m\u001b[0;34m\u001b[0m\u001b[0m\n\u001b[0;32m----> 9\u001b[0;31m     \u001b[0mfib\u001b[0m\u001b[0;34m(\u001b[0m\u001b[0;36m2000\u001b[0m\u001b[0;34m)\u001b[0m\u001b[0;34m\u001b[0m\u001b[0;34m\u001b[0m\u001b[0m\n\u001b[0m",
      "... last 1 frames repeated, from the frame below ...\n",
      "\u001b[0;32m<ipython-input-1-b0de1996953f>\u001b[0m in \u001b[0;36mfib\u001b[0;34m(n)\u001b[0m\n\u001b[1;32m      7\u001b[0m     \u001b[0mprint\u001b[0m\u001b[0;34m(\u001b[0m\u001b[0;34m)\u001b[0m\u001b[0;34m\u001b[0m\u001b[0;34m\u001b[0m\u001b[0m\n\u001b[1;32m      8\u001b[0m \u001b[0;31m# Now call the function we just defined:\u001b[0m\u001b[0;34m\u001b[0m\u001b[0;34m\u001b[0m\u001b[0;34m\u001b[0m\u001b[0m\n\u001b[0;32m----> 9\u001b[0;31m     \u001b[0mfib\u001b[0m\u001b[0;34m(\u001b[0m\u001b[0;36m2000\u001b[0m\u001b[0;34m)\u001b[0m\u001b[0;34m\u001b[0m\u001b[0;34m\u001b[0m\u001b[0m\n\u001b[0m",
      "\u001b[0;31mRecursionError\u001b[0m: maximum recursion depth exceeded in comparison"
     ]
    }
   ],
   "source": [
    "fib(0)\n",
    "print(fib(0))"
   ]
  },
  {
   "cell_type": "code",
   "execution_count": 15,
   "metadata": {},
   "outputs": [],
   "source": [
    "def fib2(n):  # return Fibonacci series up to n\n",
    "    \"\"\"Return a list containing the Fibonacci series up to n.\"\"\"\n",
    "    result = []\n",
    "    a, b = 0, 1\n",
    "    while a < n:\n",
    "        result.append(a)    # see below\n",
    "        a, b = b, a+b\n",
    "    return result\n",
    "    f100 = fib2(100)    # call it\n",
    "    f100                # write the result"
   ]
  },
  {
   "cell_type": "code",
   "execution_count": null,
   "metadata": {},
   "outputs": [],
   "source": [
    "# Default Argument Values"
   ]
  },
  {
   "cell_type": "code",
   "execution_count": 7,
   "metadata": {},
   "outputs": [],
   "source": [
    "def ask_ok(prompt, retries=4, reminder='Please try again!'):\n",
    "    while True:\n",
    "        ok = input(prompt)\n",
    "        if ok in ('y', 'ye', 'yes'):\n",
    "            return True\n",
    "        if ok in ('n', 'no', 'nop', 'nope'):\n",
    "            return False\n",
    "        retries = retries - 1\n",
    "        if retries < 0:\n",
    "            raise ValueError('invalid user response')\n",
    "        print(reminder)\n"
   ]
  },
  {
   "cell_type": "code",
   "execution_count": 8,
   "metadata": {},
   "outputs": [
    {
     "name": "stdout",
     "output_type": "stream",
     "text": "5\n"
    }
   ],
   "source": [
    "i = 5\n",
    "\n",
    "def f(arg=i):\n",
    "    print(arg)\n",
    "\n",
    "i = 6\n",
    "f()"
   ]
  },
  {
   "cell_type": "code",
   "execution_count": 9,
   "metadata": {},
   "outputs": [
    {
     "name": "stdout",
     "output_type": "stream",
     "text": "[1]\n[1, 2]\n[1, 2, 3]\n"
    }
   ],
   "source": [
    "def f(a, L=[]):\n",
    "    L.append(a)\n",
    "    return L\n",
    "\n",
    "print(f(1))\n",
    "print(f(2))\n",
    "print(f(3))"
   ]
  },
  {
   "cell_type": "code",
   "execution_count": 10,
   "metadata": {},
   "outputs": [],
   "source": [
    "def f(a, L=None):\n",
    "    if L is None:\n",
    "        L = []\n",
    "    L.append(a)\n",
    "    return L"
   ]
  },
  {
   "cell_type": "code",
   "execution_count": null,
   "metadata": {},
   "outputs": [],
   "source": [
    "# Keyword Arguments"
   ]
  },
  {
   "cell_type": "code",
   "execution_count": 11,
   "metadata": {},
   "outputs": [],
   "source": [
    "def parrot(voltage, state='a stiff', action='voom', type='Norwegian Blue'):\n",
    "    print(\"-- This parrot wouldn't\", action, end=' ')\n",
    "    print(\"if you put\", voltage, \"volts through it.\")\n",
    "    print(\"-- Lovely plumage, the\", type)\n",
    "    print(\"-- It's\", state, \"!\")"
   ]
  },
  {
   "cell_type": "code",
   "execution_count": 12,
   "metadata": {},
   "outputs": [
    {
     "name": "stdout",
     "output_type": "stream",
     "text": "-- This parrot wouldn't voom if you put 1000 volts through it.\n-- Lovely plumage, the Norwegian Blue\n-- It's a stiff !\n-- This parrot wouldn't voom if you put 1000 volts through it.\n-- Lovely plumage, the Norwegian Blue\n-- It's a stiff !\n-- This parrot wouldn't VOOOOOM if you put 1000000 volts through it.\n-- Lovely plumage, the Norwegian Blue\n-- It's a stiff !\n-- This parrot wouldn't VOOOOOM if you put 1000000 volts through it.\n-- Lovely plumage, the Norwegian Blue\n-- It's a stiff !\n-- This parrot wouldn't jump if you put a million volts through it.\n-- Lovely plumage, the Norwegian Blue\n-- It's bereft of life !\n-- This parrot wouldn't voom if you put a thousand volts through it.\n-- Lovely plumage, the Norwegian Blue\n-- It's pushing up the daisies !\n"
    }
   ],
   "source": [
    "parrot(1000)                                          # 1 positional argument\n",
    "parrot(voltage=1000)                                  # 1 keyword argument\n",
    "parrot(voltage=1000000, action='VOOOOOM')             # 2 keyword arguments\n",
    "parrot(action='VOOOOOM', voltage=1000000)             # 2 keyword arguments\n",
    "parrot('a million', 'bereft of life', 'jump')         # 3 positional arguments\n",
    "parrot('a thousand', state='pushing up the daisies')  # 1 positional, 1 keyword"
   ]
  },
  {
   "cell_type": "code",
   "execution_count": null,
   "metadata": {},
   "outputs": [],
   "source": [
    "arrot()                     # required argument missing\n",
    "parrot(voltage=5.0, 'dead')  # non-keyword argument after a keyword argument\n",
    "parrot(110, voltage=220)     # duplicate value for the same argument\n",
    "parrot(actor='John Cleese')  # unknown keyword argument"
   ]
  },
  {
   "cell_type": "code",
   "execution_count": 13,
   "metadata": {},
   "outputs": [],
   "source": [
    "def function(a):\n",
    "    pass\n",
    "    function(0, a=0)"
   ]
  },
  {
   "cell_type": "code",
   "execution_count": 14,
   "metadata": {},
   "outputs": [],
   "source": [
    "def cheeseshop(kind, *arguments, **keywords):\n",
    "    print(\"-- Do you have any\", kind, \"?\")\n",
    "    print(\"-- I'm sorry, we're all out of\", kind)\n",
    "    for arg in arguments:\n",
    "        print(arg)\n",
    "    print(\"-\" * 40)\n",
    "    for kw in keywords:\n",
    "        print(kw, \":\", keywords[kw])"
   ]
  },
  {
   "cell_type": "code",
   "execution_count": 15,
   "metadata": {},
   "outputs": [
    {
     "name": "stdout",
     "output_type": "stream",
     "text": "-- Do you have any Limburger ?\n-- I'm sorry, we're all out of Limburger\nIt's very runny, sir.\nIt's really very, VERY runny, sir.\n----------------------------------------\nshopkeeper : Michael Palin\nclient : John Cleese\nsketch : Cheese Shop Sketch\n"
    }
   ],
   "source": [
    "cheeseshop(\"Limburger\", \"It's very runny, sir.\",\n",
    "           \"It's really very, VERY runny, sir.\",\n",
    "           shopkeeper=\"Michael Palin\",\n",
    "           client=\"John Cleese\",\n",
    "           sketch=\"Cheese Shop Sketch\")"
   ]
  },
  {
   "cell_type": "code",
   "execution_count": null,
   "metadata": {},
   "outputs": [],
   "source": [
    "# Arbitrary Argument Lists"
   ]
  },
  {
   "cell_type": "code",
   "execution_count": 3,
   "metadata": {},
   "outputs": [],
   "source": [
    "def write_multiple_items(file, separator, *args):\n",
    "    file.write(separator.join(args))"
   ]
  },
  {
   "cell_type": "code",
   "execution_count": 4,
   "metadata": {},
   "outputs": [],
   "source": [
    "def concat(*args, sep=\"/\"):\n",
    "    return sep.join(args)"
   ]
  },
  {
   "cell_type": "code",
   "execution_count": 5,
   "metadata": {},
   "outputs": [
    {
     "data": {
      "text/plain": "'earth/mars/venus'"
     },
     "execution_count": 5,
     "metadata": {},
     "output_type": "execute_result"
    }
   ],
   "source": [
    "concat(\"earth\", \"mars\", \"venus\")\n",
    "'earth/mars/venus'"
   ]
  },
  {
   "cell_type": "code",
   "execution_count": 6,
   "metadata": {},
   "outputs": [
    {
     "data": {
      "text/plain": "'earth.mars.venus'"
     },
     "execution_count": 6,
     "metadata": {},
     "output_type": "execute_result"
    }
   ],
   "source": [
    "concat(\"earth\", \"mars\", \"venus\", sep=\".\")\n",
    "'earth.mars.venus'"
   ]
  },
  {
   "cell_type": "code",
   "execution_count": null,
   "metadata": {},
   "outputs": [],
   "source": [
    "# Unpacking Argument List"
   ]
  },
  {
   "cell_type": "code",
   "execution_count": 7,
   "metadata": {},
   "outputs": [
    {
     "data": {
      "text/plain": "[3, 4, 5]"
     },
     "execution_count": 7,
     "metadata": {},
     "output_type": "execute_result"
    }
   ],
   "source": [
    "list(range(3, 6))            # normal call with separate arguments"
   ]
  },
  {
   "cell_type": "code",
   "execution_count": 8,
   "metadata": {},
   "outputs": [
    {
     "data": {
      "text/plain": "[3, 4, 5]"
     },
     "execution_count": 8,
     "metadata": {},
     "output_type": "execute_result"
    }
   ],
   "source": [
    "args = [3, 6]\n",
    "list(range(*args))            # call with arguments unpacked from a list"
   ]
  },
  {
   "cell_type": "code",
   "execution_count": 9,
   "metadata": {},
   "outputs": [],
   "source": [
    "def parrot(voltage, state='a stiff', action='voom'):\n",
    "    print(\"-- This parrot wouldn't\", action, end=' ')\n",
    "    print(\"if you put\", voltage, \"volts through it.\", end=' ')\n",
    "    print(\"E's\", state, \"!\")"
   ]
  },
  {
   "cell_type": "code",
   "execution_count": 10,
   "metadata": {},
   "outputs": [
    {
     "name": "stdout",
     "output_type": "stream",
     "text": "-- This parrot wouldn't VOOM if you put four million volts through it. E's bleedin' demised !\n"
    }
   ],
   "source": [
    "d = {\"voltage\": \"four million\", \"state\": \"bleedin' demised\", \"action\": \"VOOM\"}\n",
    "parrot(**d)"
   ]
  },
  {
   "cell_type": "code",
   "execution_count": null,
   "metadata": {},
   "outputs": [],
   "source": [
    "#Lambda Expressions¶"
   ]
  },
  {
   "cell_type": "code",
   "execution_count": 11,
   "metadata": {},
   "outputs": [
    {
     "data": {
      "text/plain": "42"
     },
     "execution_count": 11,
     "metadata": {},
     "output_type": "execute_result"
    }
   ],
   "source": [
    "def make_incrementor(n):\n",
    "    return lambda x: x + n\n",
    "f = make_incrementor(42)\n",
    "f(0)"
   ]
  },
  {
   "cell_type": "code",
   "execution_count": 12,
   "metadata": {},
   "outputs": [
    {
     "data": {
      "text/plain": "43"
     },
     "execution_count": 12,
     "metadata": {},
     "output_type": "execute_result"
    }
   ],
   "source": [
    "f(1)"
   ]
  },
  {
   "cell_type": "code",
   "execution_count": 13,
   "metadata": {},
   "outputs": [
    {
     "data": {
      "text/plain": "[(4, 'four'), (1, 'one'), (3, 'three'), (2, 'two')]"
     },
     "execution_count": 13,
     "metadata": {},
     "output_type": "execute_result"
    }
   ],
   "source": [
    "pairs = [(1, 'one'), (2, 'two'), (3, 'three'), (4, 'four')]\n",
    "pairs.sort(key=lambda pair: pair[1])\n",
    "pairs"
   ]
  },
  {
   "cell_type": "code",
   "execution_count": null,
   "metadata": {},
   "outputs": [],
   "source": [
    "#Documentation Strings"
   ]
  },
  {
   "cell_type": "code",
   "execution_count": 14,
   "metadata": {},
   "outputs": [
    {
     "name": "stdout",
     "output_type": "stream",
     "text": "Do nothing, but document it.\n\n    No, really, it doesn't do anything.\n    \n"
    }
   ],
   "source": [
    "def my_function():\n",
    "    \"\"\"Do nothing, but document it.\n",
    "\n",
    "    No, really, it doesn't do anything.\n",
    "    \"\"\"\n",
    "    pass\n",
    "\n",
    "print(my_function.__doc__)"
   ]
  },
  {
   "cell_type": "code",
   "execution_count": null,
   "metadata": {},
   "outputs": [],
   "source": [
    "#Function Annotations"
   ]
  },
  {
   "cell_type": "code",
   "execution_count": 1,
   "metadata": {},
   "outputs": [
    {
     "name": "stdout",
     "output_type": "stream",
     "text": "Annotations: {'ham': <class 'str'>, 'eggs': <class 'str'>, 'return': <class 'str'>}\nArguments: spam eggs\n"
    },
    {
     "data": {
      "text/plain": "'spam and eggs'"
     },
     "execution_count": 1,
     "metadata": {},
     "output_type": "execute_result"
    }
   ],
   "source": [
    "def f(ham: str, eggs: str = 'eggs') -> str:\n",
    "    print(\"Annotations:\", f.__annotations__)\n",
    "    print(\"Arguments:\", ham, eggs)\n",
    "    return ham + ' and ' + eggs\n",
    "\n",
    "f('spam')"
   ]
  },
  {
   "cell_type": "code",
   "execution_count": null,
   "metadata": {},
   "outputs": [],
   "source": []
  }
 ]
}